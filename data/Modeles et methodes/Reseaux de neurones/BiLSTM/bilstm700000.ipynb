{
 "cells": [
  {
   "cell_type": "code",
   "execution_count": 1,
   "id": "98a8d63f",
   "metadata": {
    "execution": {
     "iopub.execute_input": "2024-02-25T21:47:41.655828Z",
     "iopub.status.busy": "2024-02-25T21:47:41.655434Z",
     "iopub.status.idle": "2024-02-25T21:47:43.734195Z",
     "shell.execute_reply": "2024-02-25T21:47:43.732997Z"
    },
    "id": "e2GkYz638PSb",
    "outputId": "4178ffe7-5bbc-487f-f9ba-dd01447ff3e1",
    "papermill": {
     "duration": 2.086852,
     "end_time": "2024-02-25T21:47:43.736264",
     "exception": false,
     "start_time": "2024-02-25T21:47:41.649412",
     "status": "completed"
    },
    "tags": []
   },
   "outputs": [
    {
     "name": "stdout",
     "output_type": "stream",
     "text": [
      "[nltk_data] Downloading package stopwords to /usr/share/nltk_data...\n",
      "[nltk_data]   Package stopwords is already up-to-date!\n"
     ]
    },
    {
     "data": {
      "text/plain": [
       "True"
      ]
     },
     "execution_count": 1,
     "metadata": {},
     "output_type": "execute_result"
    }
   ],
   "source": [
    "import nltk\n",
    "nltk.download('stopwords')\n"
   ]
  },
  {
   "cell_type": "code",
   "execution_count": 2,
   "id": "f0513725",
   "metadata": {
    "execution": {
     "iopub.execute_input": "2024-02-25T21:47:43.746907Z",
     "iopub.status.busy": "2024-02-25T21:47:43.746539Z",
     "iopub.status.idle": "2024-02-25T21:47:43.915720Z",
     "shell.execute_reply": "2024-02-25T21:47:43.914578Z"
    },
    "id": "FVPBEVa9oAMu",
    "outputId": "0f28979c-d5fd-4d19-92f4-aba09f9db0a3",
    "papermill": {
     "duration": 0.177032,
     "end_time": "2024-02-25T21:47:43.917996",
     "exception": false,
     "start_time": "2024-02-25T21:47:43.740964",
     "status": "completed"
    },
    "tags": []
   },
   "outputs": [
    {
     "name": "stdout",
     "output_type": "stream",
     "text": [
      "[nltk_data] Downloading package punkt to /usr/share/nltk_data...\n",
      "[nltk_data]   Package punkt is already up-to-date!\n",
      "[nltk_data] Downloading package wordnet to /usr/share/nltk_data...\n",
      "[nltk_data]   Package wordnet is already up-to-date!\n"
     ]
    },
    {
     "data": {
      "text/plain": [
       "True"
      ]
     },
     "execution_count": 2,
     "metadata": {},
     "output_type": "execute_result"
    }
   ],
   "source": [
    "# Téléchargez les ressources nécessaires pour NLTK\n",
    "nltk.download('punkt')\n",
    "nltk.download('wordnet')"
   ]
  },
  {
   "cell_type": "code",
   "execution_count": 3,
   "id": "237d5386",
   "metadata": {
    "execution": {
     "iopub.execute_input": "2024-02-25T21:47:43.929313Z",
     "iopub.status.busy": "2024-02-25T21:47:43.928965Z",
     "iopub.status.idle": "2024-02-25T21:47:58.558036Z",
     "shell.execute_reply": "2024-02-25T21:47:58.557051Z"
    },
    "id": "bxwmCXgGnpKI",
    "outputId": "927eac8b-0120-4a05-a3d4-44dc1c0a2c79",
    "papermill": {
     "duration": 14.637686,
     "end_time": "2024-02-25T21:47:58.560728",
     "exception": false,
     "start_time": "2024-02-25T21:47:43.923042",
     "status": "completed"
    },
    "tags": []
   },
   "outputs": [
    {
     "name": "stdout",
     "output_type": "stream",
     "text": [
      "Requirement already satisfied: unidecode in /opt/conda/lib/python3.10/site-packages (1.3.8)\r\n"
     ]
    }
   ],
   "source": [
    "!pip install unidecode\n"
   ]
  },
  {
   "cell_type": "code",
   "execution_count": 4,
   "id": "8ff8a6fd",
   "metadata": {
    "execution": {
     "iopub.execute_input": "2024-02-25T21:47:58.572697Z",
     "iopub.status.busy": "2024-02-25T21:47:58.572051Z",
     "iopub.status.idle": "2024-02-25T21:48:14.447351Z",
     "shell.execute_reply": "2024-02-25T21:48:14.446508Z"
    },
    "id": "uUhboemH8iOK",
    "papermill": {
     "duration": 15.88405,
     "end_time": "2024-02-25T21:48:14.449804",
     "exception": false,
     "start_time": "2024-02-25T21:47:58.565754",
     "status": "completed"
    },
    "tags": []
   },
   "outputs": [
    {
     "name": "stderr",
     "output_type": "stream",
     "text": [
      "2024-02-25 21:48:01.798036: E external/local_xla/xla/stream_executor/cuda/cuda_dnn.cc:9261] Unable to register cuDNN factory: Attempting to register factory for plugin cuDNN when one has already been registered\n",
      "2024-02-25 21:48:01.798160: E external/local_xla/xla/stream_executor/cuda/cuda_fft.cc:607] Unable to register cuFFT factory: Attempting to register factory for plugin cuFFT when one has already been registered\n",
      "2024-02-25 21:48:01.980261: E external/local_xla/xla/stream_executor/cuda/cuda_blas.cc:1515] Unable to register cuBLAS factory: Attempting to register factory for plugin cuBLAS when one has already been registered\n"
     ]
    }
   ],
   "source": [
    "import pandas as pd\n",
    "import string\n",
    "from unidecode import unidecode\n",
    "import numpy as np # linear algebra\n",
    "import pandas as pd # data processing, CSV file I/O (e.g. pd.read_csv)\n",
    "import re\n",
    "from sklearn.feature_extraction.text import TfidfVectorizer\n",
    "from sklearn.model_selection import train_test_split\n",
    "from nltk.corpus import stopwords\n",
    "import nltk\n",
    "from nltk.corpus import stopwords\n",
    "stopwords_fr = stopwords.words('french')\n",
    "from nltk.stem import WordNetLemmatizer\n",
    "\n",
    "from tensorflow.keras.layers import Input, LSTM, Dropout, Dense, Embedding\n",
    "from tensorflow.keras.models import Model\n",
    "from tensorflow.keras.optimizers import Adam\n",
    "from tensorflow.keras.callbacks import EarlyStopping\n",
    "from sklearn.model_selection import train_test_split\n",
    "from tensorflow.keras.preprocessing.text import Tokenizer\n",
    "from tensorflow.keras.preprocessing.sequence import pad_sequences\n",
    "from keras.layers import Bidirectional\n",
    "\n",
    "from keras.layers import Dense\n",
    "from keras import regularizers\n",
    "\n",
    "from sklearn.metrics import confusion_matrix\n",
    "import seaborn as sns\n",
    "import matplotlib.pyplot as plt\n",
    "\n",
    "from keras.utils import pad_sequences\n",
    "from keras.preprocessing.text import Tokenizer\n",
    "\n",
    "# Créer un dictionnaire français à partir des mots français contenus dans la liste des mots français du corpus nltk\n",
    "fr_dict = set(stopwords.words('french'))\n",
    "\n",
    "from tensorflow.keras.layers import Input, Embedding, Bidirectional, LSTM, Dropout, Dense, Attention\n",
    "from tensorflow.keras.models import Model\n",
    "from tensorflow.keras.regularizers import l2"
   ]
  },
  {
   "cell_type": "code",
   "execution_count": 5,
   "id": "2405485b",
   "metadata": {
    "execution": {
     "iopub.execute_input": "2024-02-25T21:48:14.460962Z",
     "iopub.status.busy": "2024-02-25T21:48:14.460011Z",
     "iopub.status.idle": "2024-02-25T21:48:18.935746Z",
     "shell.execute_reply": "2024-02-25T21:48:18.934427Z"
    },
    "id": "Y-6MXgcI8iQn",
    "outputId": "87420a5d-87f9-4e48-ecf3-142c354e805a",
    "papermill": {
     "duration": 4.484056,
     "end_time": "2024-02-25T21:48:18.938705",
     "exception": false,
     "start_time": "2024-02-25T21:48:14.454649",
     "status": "completed"
    },
    "tags": []
   },
   "outputs": [
    {
     "name": "stdout",
     "output_type": "stream",
     "text": [
      "label     int64\n",
      "text     object\n",
      "dtype: object\n",
      "   label                                               text\n",
      "0      0  - Awww, c'est un bummer. Tu devrais avoir davi...\n",
      "1      0  Est contrarié qu'il ne puisse pas mettre à jou...\n",
      "2      0  J'ai plongé plusieurs fois pour la balle. A ré...\n",
      "3      0  Tout mon corps a des démangeaisons et comme si...\n",
      "4      0  Non, il ne se comporte pas du tout. je suis en...\n"
     ]
    }
   ],
   "source": [
    "df = pd.read_csv(\"../input/french-twitter-sentiment-analysis/french_tweets.csv\")\n",
    "print(df.dtypes)\n",
    "print(df.head())"
   ]
  },
  {
   "cell_type": "code",
   "execution_count": 6,
   "id": "841c8dca",
   "metadata": {
    "execution": {
     "iopub.execute_input": "2024-02-25T21:48:18.953364Z",
     "iopub.status.busy": "2024-02-25T21:48:18.952988Z",
     "iopub.status.idle": "2024-02-25T21:48:19.391116Z",
     "shell.execute_reply": "2024-02-25T21:48:19.389936Z"
    },
    "id": "ERMZ3bk_8iSs",
    "outputId": "397cfa30-b373-4474-b7bf-5c7fd364e10f",
    "papermill": {
     "duration": 0.447254,
     "end_time": "2024-02-25T21:48:19.393729",
     "exception": false,
     "start_time": "2024-02-25T21:48:18.946475",
     "status": "completed"
    },
    "tags": []
   },
   "outputs": [
    {
     "name": "stdout",
     "output_type": "stream",
     "text": [
      "label\n",
      "0    700000\n",
      "1    700000\n",
      "Name: count, dtype: int64\n"
     ]
    },
    {
     "name": "stderr",
     "output_type": "stream",
     "text": [
      "/tmp/ipykernel_26/1649093381.py:1: DeprecationWarning: DataFrameGroupBy.apply operated on the grouping columns. This behavior is deprecated, and in a future version of pandas the grouping columns will be excluded from the operation. Either pass `include_groups=False` to exclude the groupings or explicitly select the grouping columns after groupby to silence this warning.\n",
      "  df_echantillon = df.groupby('label', group_keys=False).apply(lambda x: x.sample(min(len(x), 700000)))\n"
     ]
    }
   ],
   "source": [
    "df_echantillon = df.groupby('label', group_keys=False).apply(lambda x: x.sample(min(len(x), 700000)))\n",
    "\n",
    "repartition_labels = df_echantillon['label'].value_counts()\n",
    "print(repartition_labels)"
   ]
  },
  {
   "cell_type": "code",
   "execution_count": 7,
   "id": "d13075ec",
   "metadata": {
    "execution": {
     "iopub.execute_input": "2024-02-25T21:48:19.405314Z",
     "iopub.status.busy": "2024-02-25T21:48:19.404970Z",
     "iopub.status.idle": "2024-02-25T21:54:51.838448Z",
     "shell.execute_reply": "2024-02-25T21:54:51.837215Z"
    },
    "id": "G-5uvaP98iUz",
    "outputId": "b3fccfe6-7c39-43b5-a136-152b83545faa",
    "papermill": {
     "duration": 392.445958,
     "end_time": "2024-02-25T21:54:51.844876",
     "exception": false,
     "start_time": "2024-02-25T21:48:19.398918",
     "status": "completed"
    },
    "tags": []
   },
   "outputs": [
    {
     "data": {
      "text/html": [
       "<div>\n",
       "<style scoped>\n",
       "    .dataframe tbody tr th:only-of-type {\n",
       "        vertical-align: middle;\n",
       "    }\n",
       "\n",
       "    .dataframe tbody tr th {\n",
       "        vertical-align: top;\n",
       "    }\n",
       "\n",
       "    .dataframe thead th {\n",
       "        text-align: right;\n",
       "    }\n",
       "</style>\n",
       "<table border=\"1\" class=\"dataframe\">\n",
       "  <thead>\n",
       "    <tr style=\"text-align: right;\">\n",
       "      <th></th>\n",
       "      <th>label</th>\n",
       "      <th>text</th>\n",
       "    </tr>\n",
       "  </thead>\n",
       "  <tbody>\n",
       "    <tr>\n",
       "      <th>425019</th>\n",
       "      <td>0</td>\n",
       "      <td>maintenant quittant corpus christi</td>\n",
       "    </tr>\n",
       "    <tr>\n",
       "      <th>137513</th>\n",
       "      <td>0</td>\n",
       "      <td>donc freakn fatigue gah je veux dormir pas tra...</td>\n",
       "    </tr>\n",
       "    <tr>\n",
       "      <th>174652</th>\n",
       "      <td>0</td>\n",
       "      <td>je ressens vraiment que j ai besoin d une nouv...</td>\n",
       "    </tr>\n",
       "    <tr>\n",
       "      <th>218508</th>\n",
       "      <td>0</td>\n",
       "      <td>hey voulez vous avoir un autre chat en direct ...</td>\n",
       "    </tr>\n",
       "    <tr>\n",
       "      <th>201348</th>\n",
       "      <td>0</td>\n",
       "      <td>j espere que vous n avez pas parle trop tot et...</td>\n",
       "    </tr>\n",
       "  </tbody>\n",
       "</table>\n",
       "</div>"
      ],
      "text/plain": [
       "        label                                               text\n",
       "425019      0                 maintenant quittant corpus christi\n",
       "137513      0  donc freakn fatigue gah je veux dormir pas tra...\n",
       "174652      0  je ressens vraiment que j ai besoin d une nouv...\n",
       "218508      0  hey voulez vous avoir un autre chat en direct ...\n",
       "201348      0  j espere que vous n avez pas parle trop tot et..."
      ]
     },
     "execution_count": 7,
     "metadata": {},
     "output_type": "execute_result"
    }
   ],
   "source": [
    "def clean_text(text):\n",
    "    text = text.lower()\n",
    "    text = re.sub(\"&lt;/?.*?&gt;\", \" &lt;&gt; \", text)\n",
    "    text = re.sub(r'[@/#]', '', text)\n",
    "    text = re.sub(\"(\\\\d|\\\\W)+\", \" \", text)\n",
    "    text = re.sub(r'_+', '', text)\n",
    "    text = unidecode(text)\n",
    "    tokens = nltk.word_tokenize(text)\n",
    "\n",
    "    text = ' '.join(tokens)\n",
    "    text = re.sub(r'[^a-zA-Z\\s]', '', text)\n",
    "    text = re.sub(r'http\\S+', '', text)\n",
    "    text = re.sub(r'\\s+', ' ', text).strip()\n",
    "    return text\n",
    "\n",
    "\n",
    "def remove_emoji(text):\n",
    "    emoji_pattern = re.compile(\"[\"\n",
    "                           u\"\\U0001F600-\\U0001F64F\" \n",
    "                           u\"\\U0001F300-\\U0001F5FF\"\n",
    "                           u\"\\U0001F680-\\U0001F6FF\"\n",
    "                           u\"\\U0001F1E0-\\U0001F1FF\"\n",
    "                           u\"\\U00002702-\\U000027B0\"\n",
    "                           u\"\\U000024C2-\\U0001F251\"\n",
    "                           \"]+\", flags=re.UNICODE)\n",
    "    return emoji_pattern.sub(r'', text)\n",
    "\n",
    "\n",
    "df_echantillon['text']=df_echantillon['text'].apply(clean_text)\n",
    "df_echantillon['text'] = df_echantillon['text'].apply(remove_emoji)\n",
    "df_echantillon.head()"
   ]
  },
  {
   "cell_type": "code",
   "execution_count": 8,
   "id": "e44ac042",
   "metadata": {
    "execution": {
     "iopub.execute_input": "2024-02-25T21:54:51.856666Z",
     "iopub.status.busy": "2024-02-25T21:54:51.855802Z",
     "iopub.status.idle": "2024-02-25T21:55:57.209611Z",
     "shell.execute_reply": "2024-02-25T21:55:57.208584Z"
    },
    "id": "PO9IjNTd8iW8",
    "papermill": {
     "duration": 65.362556,
     "end_time": "2024-02-25T21:55:57.212422",
     "exception": false,
     "start_time": "2024-02-25T21:54:51.849866",
     "status": "completed"
    },
    "tags": []
   },
   "outputs": [],
   "source": [
    "tokenizer = Tokenizer()\n",
    "tokenizer.fit_on_texts(df_echantillon['text'])\n",
    "X = tokenizer.texts_to_sequences(df_echantillon['text'])\n",
    "X = pad_sequences(X)\n",
    "y = np.array(df_echantillon['label'])\n",
    "X = np.reshape(X, (X.shape[0],X.shape[1],1))\n",
    "# Train Test Split\n",
    "X_train, X_test, y_train, y_test = train_test_split(X, y, test_size=0.2, random_state=42)"
   ]
  },
  {
   "cell_type": "code",
   "execution_count": 9,
   "id": "162434ad",
   "metadata": {
    "execution": {
     "iopub.execute_input": "2024-02-25T21:55:57.227038Z",
     "iopub.status.busy": "2024-02-25T21:55:57.226660Z",
     "iopub.status.idle": "2024-02-25T21:57:01.760757Z",
     "shell.execute_reply": "2024-02-25T21:57:01.759883Z"
    },
    "id": "9413P6eT8yTu",
    "papermill": {
     "duration": 64.545138,
     "end_time": "2024-02-25T21:57:01.763357",
     "exception": false,
     "start_time": "2024-02-25T21:55:57.218219",
     "status": "completed"
    },
    "tags": []
   },
   "outputs": [],
   "source": [
    "texts = df_echantillon['text'].tolist()\n",
    "\n",
    "vocab_size = 1000\n",
    "\n",
    "embedding_dim = 100\n",
    "\n",
    "tokenizer = Tokenizer(num_words=vocab_size)\n",
    "\n",
    "tokenizer.fit_on_texts(texts)\n",
    "\n",
    "sequences = tokenizer.texts_to_sequences(texts)\n",
    "\n",
    "max_len = 100\n",
    "\n",
    "X = pad_sequences(sequences, maxlen=max_len)\n",
    "\n",
    "y = np.array(df_echantillon['label'])"
   ]
  },
  {
   "cell_type": "code",
   "execution_count": 10,
   "id": "28bf5117",
   "metadata": {
    "execution": {
     "iopub.execute_input": "2024-02-25T21:57:01.775524Z",
     "iopub.status.busy": "2024-02-25T21:57:01.775144Z",
     "iopub.status.idle": "2024-02-25T23:27:47.938138Z",
     "shell.execute_reply": "2024-02-25T23:27:47.937190Z"
    },
    "id": "QFtIY8Ms8DmU",
    "outputId": "efcd0ab2-ca78-42af-96f3-cc2c44502dce",
    "papermill": {
     "duration": 5446.171561,
     "end_time": "2024-02-25T23:27:47.940514",
     "exception": false,
     "start_time": "2024-02-25T21:57:01.768953",
     "status": "completed"
    },
    "tags": []
   },
   "outputs": [
    {
     "name": "stdout",
     "output_type": "stream",
     "text": [
      "Model: \"model\"\n",
      "_________________________________________________________________\n",
      " Layer (type)                Output Shape              Param #   \n",
      "=================================================================\n",
      " input_1 (InputLayer)        [(None, 100)]             0         \n",
      "                                                                 \n",
      " embedding (Embedding)       (None, 100, 100)          100000    \n",
      "                                                                 \n",
      " bidirectional (Bidirection  (None, 100, 256)          234496    \n",
      " al)                                                             \n",
      "                                                                 \n",
      " dropout (Dropout)           (None, 100, 256)          0         \n",
      "                                                                 \n",
      " bidirectional_1 (Bidirecti  (None, 128)               164352    \n",
      " onal)                                                           \n",
      "                                                                 \n",
      " dropout_1 (Dropout)         (None, 128)               0         \n",
      "                                                                 \n",
      " dense (Dense)               (None, 1)                 129       \n",
      "                                                                 \n",
      "=================================================================\n",
      "Total params: 498977 (1.90 MB)\n",
      "Trainable params: 498977 (1.90 MB)\n",
      "Non-trainable params: 0 (0.00 Byte)\n",
      "_________________________________________________________________\n",
      "Epoch 1/30\n"
     ]
    },
    {
     "name": "stderr",
     "output_type": "stream",
     "text": [
      "WARNING: All log messages before absl::InitializeLog() is called are written to STDERR\n",
      "I0000 00:00:1708898232.670183      76 device_compiler.h:186] Compiled cluster using XLA!  This line is logged at most once for the lifetime of the process.\n"
     ]
    },
    {
     "name": "stdout",
     "output_type": "stream",
     "text": [
      "28000/28000 [==============================] - 552s 19ms/step - loss: 0.4861 - accuracy: 0.7636 - val_loss: 0.4701 - val_accuracy: 0.7731\n",
      "Epoch 2/30\n",
      "28000/28000 [==============================] - 528s 19ms/step - loss: 0.4625 - accuracy: 0.7788 - val_loss: 0.4602 - val_accuracy: 0.7801\n",
      "Epoch 3/30\n",
      "28000/28000 [==============================] - 529s 19ms/step - loss: 0.4505 - accuracy: 0.7862 - val_loss: 0.4551 - val_accuracy: 0.7829\n",
      "Epoch 4/30\n",
      "28000/28000 [==============================] - 530s 19ms/step - loss: 0.4413 - accuracy: 0.7915 - val_loss: 0.4548 - val_accuracy: 0.7835\n",
      "Epoch 5/30\n",
      "28000/28000 [==============================] - 529s 19ms/step - loss: 0.4337 - accuracy: 0.7955 - val_loss: 0.4523 - val_accuracy: 0.7855\n",
      "Epoch 6/30\n",
      "28000/28000 [==============================] - 530s 19ms/step - loss: 0.4271 - accuracy: 0.7993 - val_loss: 0.4532 - val_accuracy: 0.7848\n",
      "Epoch 7/30\n",
      "28000/28000 [==============================] - 525s 19ms/step - loss: 0.4217 - accuracy: 0.8025 - val_loss: 0.4540 - val_accuracy: 0.7837\n",
      "Epoch 8/30\n",
      "28000/28000 [==============================] - 527s 19ms/step - loss: 0.4175 - accuracy: 0.8046 - val_loss: 0.4575 - val_accuracy: 0.7840\n",
      "Epoch 9/30\n",
      "28000/28000 [==============================] - 529s 19ms/step - loss: 0.4149 - accuracy: 0.8063 - val_loss: 0.4577 - val_accuracy: 0.7844\n",
      "Epoch 10/30\n",
      "28000/28000 [==============================] - 529s 19ms/step - loss: 0.4128 - accuracy: 0.8076 - val_loss: 0.4571 - val_accuracy: 0.7844\n",
      "8750/8750 [==============================] - 65s 7ms/step - loss: 0.4496 - accuracy: 0.7873\n",
      "Test Loss (BiLSTM): 0.44956186413764954\n",
      "Test Accuracy (BiLSTM): 0.7872678637504578\n",
      "8750/8750 [==============================] - 63s 7ms/step\n"
     ]
    },
    {
     "data": {
      "image/png": "[encoded data removed]",
      "text/plain": [
       "<Figure size 800x600 with 2 Axes>"
      ]
     },
     "metadata": {},
     "output_type": "display_data"
    }
   ],
   "source": [
    "\n",
    "inputs_bi = Input(shape=(max_len,))\n",
    "embedding_layer_bi = Embedding(input_dim=vocab_size, output_dim=embedding_dim, input_length=max_len)(inputs_bi)\n",
    "\n",
    "x_bi = Bidirectional(LSTM(128, return_sequences=True))(embedding_layer_bi)\n",
    "x_bi = Dropout(0.2)(x_bi)\n",
    "x_bi = Bidirectional(LSTM(64))(x_bi)\n",
    "x_bi = Dropout(0.2)(x_bi)\n",
    "\n",
    "outputs_bi = Dense(1, activation='sigmoid')(x_bi)\n",
    "\n",
    "modeleBi = Model(inputs=inputs_bi, outputs=outputs_bi)\n",
    "\n",
    "modeleBi.summary()\n",
    "\n",
    "learning_rate = 0.001\n",
    "\n",
    "optimizer = Adam(learning_rate=learning_rate)\n",
    "\n",
    "modeleBi.compile(loss='binary_crossentropy',\n",
    "                 optimizer=optimizer,\n",
    "                 metrics=['accuracy'])\n",
    "\n",
    "X_train, X_test, y_train, y_test = train_test_split(X, y, test_size=0.2, random_state=42)\n",
    "\n",
    "\n",
    "early_stopping = EarlyStopping(monitor='val_loss', patience=5, restore_best_weights=True)\n",
    "\n",
    "history_bi = modeleBi.fit(X_train, y_train, epochs=30, batch_size=32, validation_split=0.2, callbacks=[early_stopping])\n",
    "\n",
    "loss_bi, accuracy_bi = modeleBi.evaluate(X_test, y_test)\n",
    "print(\"Test Loss (BiLSTM):\", loss_bi)\n",
    "print(\"Test Accuracy (BiLSTM):\", accuracy_bi)\n",
    "\n",
    "y_pred = modeleBi.predict(X_test)\n",
    "y_pred_binary = (y_pred > 0.5).astype(int)\n",
    "\n",
    "conf_matrix = confusion_matrix(y_test, y_pred_binary)\n",
    "\n",
    "plt.figure(figsize=(8, 6))\n",
    "sns.heatmap(conf_matrix, annot=True, fmt=\"d\", cmap=\"Blues\")\n",
    "plt.xlabel('Prédictions')\n",
    "plt.ylabel('Vraies valeurs')\n",
    "plt.title('Matrice de Confusion')\n",
    "plt.show()"
   ]
  },
  {
   "cell_type": "code",
   "execution_count": 11,
   "id": "b6d429d9",
   "metadata": {
    "execution": {
     "iopub.execute_input": "2024-02-25T23:28:03.013367Z",
     "iopub.status.busy": "2024-02-25T23:28:03.012992Z",
     "iopub.status.idle": "2024-02-25T23:28:03.075302Z",
     "shell.execute_reply": "2024-02-25T23:28:03.074397Z"
    },
    "id": "D8WVgPChz8rB",
    "papermill": {
     "duration": 7.413276,
     "end_time": "2024-02-25T23:28:03.077429",
     "exception": false,
     "start_time": "2024-02-25T23:27:55.664153",
     "status": "completed"
    },
    "tags": []
   },
   "outputs": [
    {
     "name": "stderr",
     "output_type": "stream",
     "text": [
      "/opt/conda/lib/python3.10/site-packages/keras/src/engine/training.py:3103: UserWarning: You are saving your model as an HDF5 file via `model.save()`. This file format is considered legacy. We recommend using instead the native Keras format, e.g. `model.save('my_model.keras')`.\n",
      "  saving_api.save_model(\n"
     ]
    }
   ],
   "source": [
    "modeleBi.save(\"bilstm700000.h5\")"
   ]
  }
 ],
 "metadata": {
  "colab": {
   "provenance": []
  },
  "kaggle": {
   "accelerator": "nvidiaTeslaT4",
   "dataSources": [
    {
     "datasetId": 488231,
     "sourceId": 909575,
     "sourceType": "datasetVersion"
    }
   ],
   "dockerImageVersionId": 30648,
   "isGpuEnabled": true,
   "isInternetEnabled": true,
   "language": "python",
   "sourceType": "notebook"
  },
  "kernelspec": {
   "display_name": "Python 3",
   "language": "python",
   "name": "python3"
  },
  "language_info": {
   "codemirror_mode": {
    "name": "ipython",
    "version": 3
   },
   "file_extension": ".py",
   "mimetype": "text/x-python",
   "name": "python",
   "nbconvert_exporter": "python",
   "pygments_lexer": "ipython3",
   "version": "3.10.13"
  },
  "papermill": {
   "default_parameters": {},
   "duration": 6035.727226,
   "end_time": "2024-02-25T23:28:14.237214",
   "environment_variables": {},
   "exception": null,
   "input_path": "__notebook__.ipynb",
   "output_path": "__notebook__.ipynb",
   "parameters": {},
   "start_time": "2024-02-25T21:47:38.509988",
   "version": "2.5.0"
  }
 },
 "nbformat": 4,
 "nbformat_minor": 5
}
