{
  "nbformat": 4,
  "nbformat_minor": 0,
  "metadata": {
    "colab": {
      "provenance": []
    },
    "kernelspec": {
      "name": "python3",
      "display_name": "Python 3"
    },
    "language_info": {
      "name": "python"
    }
  },
  "cells": [
    {
      "cell_type": "code",
      "execution_count": null,
      "metadata": {
        "colab": {
          "base_uri": "https://localhost:8080/"
        },
        "id": "e2GkYz638PSb",
        "outputId": "9851b83f-dc3d-4dfd-8d4e-26bb41d5dc41"
      },
      "outputs": [
        {
          "output_type": "stream",
          "name": "stderr",
          "text": [
            "[nltk_data] Downloading package stopwords to /root/nltk_data...\n",
            "[nltk_data]   Package stopwords is already up-to-date!\n"
          ]
        },
        {
          "output_type": "execute_result",
          "data": {
            "text/plain": [
              "True"
            ]
          },
          "metadata": {},
          "execution_count": 2
        }
      ],
      "source": [
        "import nltk\n",
        "nltk.download('stopwords')\n"
      ]
    },
    {
      "cell_type": "code",
      "source": [
        "# Téléchargez les ressources nécessaires pour NLTK\n",
        "nltk.download('punkt')\n",
        "nltk.download('wordnet')"
      ],
      "metadata": {
        "colab": {
          "base_uri": "https://localhost:8080/"
        },
        "id": "FVPBEVa9oAMu",
        "outputId": "020a2215-295f-426b-ed2d-50211534a78f"
      },
      "execution_count": null,
      "outputs": [
        {
          "output_type": "stream",
          "name": "stderr",
          "text": [
            "[nltk_data] Downloading package punkt to /root/nltk_data...\n",
            "[nltk_data]   Unzipping tokenizers/punkt.zip.\n",
            "[nltk_data] Downloading package wordnet to /root/nltk_data...\n"
          ]
        },
        {
          "output_type": "execute_result",
          "data": {
            "text/plain": [
              "True"
            ]
          },
          "metadata": {},
          "execution_count": 3
        }
      ]
    },
    {
      "cell_type": "code",
      "source": [
        "!pip install unidecode\n"
      ],
      "metadata": {
        "colab": {
          "base_uri": "https://localhost:8080/"
        },
        "id": "bxwmCXgGnpKI",
        "outputId": "86a60780-6833-4604-bf86-fb1bf44e8dd7"
      },
      "execution_count": null,
      "outputs": [
        {
          "output_type": "stream",
          "name": "stdout",
          "text": [
            "Collecting unidecode\n",
            "  Downloading Unidecode-1.3.8-py3-none-any.whl (235 kB)\n",
            "\u001b[?25l     \u001b[90m━━━━━━━━━━━━━━━━━━━━━━━━━━━━━━━━━━━━━━━━\u001b[0m \u001b[32m0.0/235.5 kB\u001b[0m \u001b[31m?\u001b[0m eta \u001b[36m-:--:--\u001b[0m\r\u001b[2K     \u001b[91m━━━━━━━━━━━━━━━━━━━━\u001b[0m\u001b[91m╸\u001b[0m\u001b[90m━━━━━━━━━━━━━━━━━━━\u001b[0m \u001b[32m122.9/235.5 kB\u001b[0m \u001b[31m3.6 MB/s\u001b[0m eta \u001b[36m0:00:01\u001b[0m\r\u001b[2K     \u001b[90m━━━━━━━━━━━━━━━━━━━━━━━━━━━━━━━━━━━━━━━━\u001b[0m \u001b[32m235.5/235.5 kB\u001b[0m \u001b[31m4.4 MB/s\u001b[0m eta \u001b[36m0:00:00\u001b[0m\n",
            "\u001b[?25hInstalling collected packages: unidecode\n",
            "Successfully installed unidecode-1.3.8\n"
          ]
        }
      ]
    },
    {
      "cell_type": "code",
      "source": [
        "import pandas as pd\n",
        "import string\n",
        "from unidecode import unidecode\n",
        "import numpy as np # linear algebra\n",
        "import pandas as pd # data processing, CSV file I/O (e.g. pd.read_csv)\n",
        "import re\n",
        "from sklearn.feature_extraction.text import TfidfVectorizer\n",
        "from sklearn.model_selection import train_test_split\n",
        "from nltk.corpus import stopwords\n",
        "import nltk\n",
        "from nltk.corpus import stopwords\n",
        "stopwords_fr = stopwords.words('french')\n",
        "from nltk.stem import WordNetLemmatizer\n",
        "\n",
        "from tensorflow.keras.layers import Input, LSTM, Dropout, Dense, Embedding\n",
        "from tensorflow.keras.models import Model\n",
        "from tensorflow.keras.optimizers import Adam\n",
        "from tensorflow.keras.callbacks import EarlyStopping\n",
        "from sklearn.model_selection import train_test_split\n",
        "from tensorflow.keras.preprocessing.text import Tokenizer\n",
        "from tensorflow.keras.preprocessing.sequence import pad_sequences\n",
        "from keras.layers import Bidirectional\n",
        "\n",
        "from keras.layers import Dense\n",
        "from keras import regularizers\n",
        "\n",
        "from sklearn.metrics import confusion_matrix\n",
        "import seaborn as sns\n",
        "import matplotlib.pyplot as plt\n",
        "\n",
        "from keras.utils import pad_sequences\n",
        "from keras.preprocessing.text import Tokenizer\n",
        "\n",
        "# Créer un dictionnaire français à partir des mots français contenus dans la liste des mots français du corpus nltk\n",
        "fr_dict = set(stopwords.words('french'))\n",
        "\n",
        "from tensorflow.keras.layers import Input, Embedding, Bidirectional, LSTM, Dropout, Dense, Attention\n",
        "from tensorflow.keras.models import Model\n",
        "from tensorflow.keras.regularizers import l2"
      ],
      "metadata": {
        "id": "uUhboemH8iOK"
      },
      "execution_count": null,
      "outputs": []
    },
    {
      "cell_type": "code",
      "source": [
        "df = pd.read_csv(\"french_tweets.csv\") #changer jusqu'a 50000 pour prendre les n premieres lignes -> eviter un bug\n",
        "print(df.dtypes)\n",
        "print(df.head())"
      ],
      "metadata": {
        "colab": {
          "base_uri": "https://localhost:8080/"
        },
        "id": "Y-6MXgcI8iQn",
        "outputId": "e527f484-abf6-4c3f-c7cd-b246e13a6d27"
      },
      "execution_count": null,
      "outputs": [
        {
          "output_type": "stream",
          "name": "stdout",
          "text": [
            "label     int64\n",
            "text     object\n",
            "dtype: object\n",
            "   label                                               text\n",
            "0      0  - Awww, c'est un bummer. Tu devrais avoir davi...\n",
            "1      0  Est contrarié qu'il ne puisse pas mettre à jou...\n",
            "2      0  J'ai plongé plusieurs fois pour la balle. A ré...\n",
            "3      0  Tout mon corps a des démangeaisons et comme si...\n",
            "4      0  Non, il ne se comporte pas du tout. je suis en...\n"
          ]
        }
      ]
    },
    {
      "cell_type": "code",
      "source": [
        "df_echantillon = df.groupby('label', group_keys=False).apply(lambda x: x.sample(min(len(x), 5000)))\n",
        "\n",
        "# Vérifiez la répartition des labels dans l'échantillon\n",
        "repartition_labels = df_echantillon['label'].value_counts()\n",
        "print(repartition_labels)"
      ],
      "metadata": {
        "colab": {
          "base_uri": "https://localhost:8080/"
        },
        "id": "ERMZ3bk_8iSs",
        "outputId": "05e252e7-935c-4017-e534-3eaa8d571981"
      },
      "execution_count": null,
      "outputs": [
        {
          "output_type": "stream",
          "name": "stdout",
          "text": [
            "0    5000\n",
            "1    5000\n",
            "Name: label, dtype: int64\n"
          ]
        }
      ]
    },
    {
      "cell_type": "code",
      "source": [
        "def clean_text(text):\n",
        "    text = text.lower()\n",
        "    text = re.sub(\"&lt;/?.*?&gt;\", \" &lt;&gt; \", text)\n",
        "    text = re.sub(r'[@/#]', '', text)\n",
        "    text = re.sub(\"(\\\\d|\\\\W)+\", \" \", text)\n",
        "    text = re.sub(r'_+', '', text)\n",
        "    text = unidecode(text)\n",
        "    tokens = nltk.word_tokenize(text)\n",
        "    lemmatizer = WordNetLemmatizer()\n",
        "    tokens = [lemmatizer.lemmatize(word) for word in tokens]\n",
        "    text = ' '.join(tokens)\n",
        "    text = re.sub(r'[^a-zA-Z\\s]', '', text)\n",
        "    text = re.sub(r'http\\S+', '', text)\n",
        "    text = re.sub(r'\\s+', ' ', text).strip()\n",
        "    return text\n",
        "\n",
        "\n",
        "def remove_emoji(text):\n",
        "    emoji_pattern = re.compile(\"[\"\n",
        "                           u\"\\U0001F600-\\U0001F64F\"\n",
        "                           u\"\\U0001F300-\\U0001F5FF\"\n",
        "                           u\"\\U0001F680-\\U0001F6FF\"\n",
        "                           u\"\\U0001F1E0-\\U0001F1FF\"\n",
        "                           u\"\\U00002702-\\U000027B0\"\n",
        "                           u\"\\U000024C2-\\U0001F251\"\n",
        "                           \"]+\", flags=re.UNICODE)\n",
        "    return emoji_pattern.sub(r'', text)\n",
        "\n",
        "\n",
        "df_echantillon['text']=df_echantillon['text'].apply(clean_text)\n",
        "df_echantillon['text'] = df_echantillon['text'].apply(remove_emoji)\n",
        "df_echantillon.head()"
      ],
      "metadata": {
        "colab": {
          "base_uri": "https://localhost:8080/",
          "height": 206
        },
        "id": "G-5uvaP98iUz",
        "outputId": "135a3ed3-df27-4599-ea13-0e125c514aa3"
      },
      "execution_count": null,
      "outputs": [
        {
          "output_type": "execute_result",
          "data": {
            "text/plain": [
              "        label                                               text\n",
              "229624      0  je suis triste maintenant j ai perdu quelque c...\n",
              "522284      0                                       ca me manque\n",
              "133609      0                                 travaillez bientot\n",
              "758809      0  finished quot le miroir d ambre quot and the e...\n",
              "299043      0                                        oui ca suce"
            ],
            "text/html": [
              "\n",
              "  <div id=\"df-1143d048-d9b1-4a30-9650-4f32a23e278f\" class=\"colab-df-container\">\n",
              "    <div>\n",
              "<style scoped>\n",
              "    .dataframe tbody tr th:only-of-type {\n",
              "        vertical-align: middle;\n",
              "    }\n",
              "\n",
              "    .dataframe tbody tr th {\n",
              "        vertical-align: top;\n",
              "    }\n",
              "\n",
              "    .dataframe thead th {\n",
              "        text-align: right;\n",
              "    }\n",
              "</style>\n",
              "<table border=\"1\" class=\"dataframe\">\n",
              "  <thead>\n",
              "    <tr style=\"text-align: right;\">\n",
              "      <th></th>\n",
              "      <th>label</th>\n",
              "      <th>text</th>\n",
              "    </tr>\n",
              "  </thead>\n",
              "  <tbody>\n",
              "    <tr>\n",
              "      <th>229624</th>\n",
              "      <td>0</td>\n",
              "      <td>je suis triste maintenant j ai perdu quelque c...</td>\n",
              "    </tr>\n",
              "    <tr>\n",
              "      <th>522284</th>\n",
              "      <td>0</td>\n",
              "      <td>ca me manque</td>\n",
              "    </tr>\n",
              "    <tr>\n",
              "      <th>133609</th>\n",
              "      <td>0</td>\n",
              "      <td>travaillez bientot</td>\n",
              "    </tr>\n",
              "    <tr>\n",
              "      <th>758809</th>\n",
              "      <td>0</td>\n",
              "      <td>finished quot le miroir d ambre quot and the e...</td>\n",
              "    </tr>\n",
              "    <tr>\n",
              "      <th>299043</th>\n",
              "      <td>0</td>\n",
              "      <td>oui ca suce</td>\n",
              "    </tr>\n",
              "  </tbody>\n",
              "</table>\n",
              "</div>\n",
              "    <div class=\"colab-df-buttons\">\n",
              "\n",
              "  <div class=\"colab-df-container\">\n",
              "    <button class=\"colab-df-convert\" onclick=\"convertToInteractive('df-1143d048-d9b1-4a30-9650-4f32a23e278f')\"\n",
              "            title=\"Convert this dataframe to an interactive table.\"\n",
              "            style=\"display:none;\">\n",
              "\n",
              "  <svg xmlns=\"http://www.w3.org/2000/svg\" height=\"24px\" viewBox=\"0 -960 960 960\">\n",
              "    <path d=\"M120-120v-720h720v720H120Zm60-500h600v-160H180v160Zm220 220h160v-160H400v160Zm0 220h160v-160H400v160ZM180-400h160v-160H180v160Zm440 0h160v-160H620v160ZM180-180h160v-160H180v160Zm440 0h160v-160H620v160Z\"/>\n",
              "  </svg>\n",
              "    </button>\n",
              "\n",
              "  <style>\n",
              "    .colab-df-container {\n",
              "      display:flex;\n",
              "      gap: 12px;\n",
              "    }\n",
              "\n",
              "    .colab-df-convert {\n",
              "      background-color: #E8F0FE;\n",
              "      border: none;\n",
              "      border-radius: 50%;\n",
              "      cursor: pointer;\n",
              "      display: none;\n",
              "      fill: #1967D2;\n",
              "      height: 32px;\n",
              "      padding: 0 0 0 0;\n",
              "      width: 32px;\n",
              "    }\n",
              "\n",
              "    .colab-df-convert:hover {\n",
              "      background-color: #E2EBFA;\n",
              "      box-shadow: 0px 1px 2px rgba(60, 64, 67, 0.3), 0px 1px 3px 1px rgba(60, 64, 67, 0.15);\n",
              "      fill: #174EA6;\n",
              "    }\n",
              "\n",
              "    .colab-df-buttons div {\n",
              "      margin-bottom: 4px;\n",
              "    }\n",
              "\n",
              "    [theme=dark] .colab-df-convert {\n",
              "      background-color: #3B4455;\n",
              "      fill: #D2E3FC;\n",
              "    }\n",
              "\n",
              "    [theme=dark] .colab-df-convert:hover {\n",
              "      background-color: #434B5C;\n",
              "      box-shadow: 0px 1px 3px 1px rgba(0, 0, 0, 0.15);\n",
              "      filter: drop-shadow(0px 1px 2px rgba(0, 0, 0, 0.3));\n",
              "      fill: #FFFFFF;\n",
              "    }\n",
              "  </style>\n",
              "\n",
              "    <script>\n",
              "      const buttonEl =\n",
              "        document.querySelector('#df-1143d048-d9b1-4a30-9650-4f32a23e278f button.colab-df-convert');\n",
              "      buttonEl.style.display =\n",
              "        google.colab.kernel.accessAllowed ? 'block' : 'none';\n",
              "\n",
              "      async function convertToInteractive(key) {\n",
              "        const element = document.querySelector('#df-1143d048-d9b1-4a30-9650-4f32a23e278f');\n",
              "        const dataTable =\n",
              "          await google.colab.kernel.invokeFunction('convertToInteractive',\n",
              "                                                    [key], {});\n",
              "        if (!dataTable) return;\n",
              "\n",
              "        const docLinkHtml = 'Like what you see? Visit the ' +\n",
              "          '<a target=\"_blank\" href=https://colab.research.google.com/notebooks/data_table.ipynb>data table notebook</a>'\n",
              "          + ' to learn more about interactive tables.';\n",
              "        element.innerHTML = '';\n",
              "        dataTable['output_type'] = 'display_data';\n",
              "        await google.colab.output.renderOutput(dataTable, element);\n",
              "        const docLink = document.createElement('div');\n",
              "        docLink.innerHTML = docLinkHtml;\n",
              "        element.appendChild(docLink);\n",
              "      }\n",
              "    </script>\n",
              "  </div>\n",
              "\n",
              "\n",
              "<div id=\"df-98401081-1641-45c9-9b78-a13f97571376\">\n",
              "  <button class=\"colab-df-quickchart\" onclick=\"quickchart('df-98401081-1641-45c9-9b78-a13f97571376')\"\n",
              "            title=\"Suggest charts\"\n",
              "            style=\"display:none;\">\n",
              "\n",
              "<svg xmlns=\"http://www.w3.org/2000/svg\" height=\"24px\"viewBox=\"0 0 24 24\"\n",
              "     width=\"24px\">\n",
              "    <g>\n",
              "        <path d=\"M19 3H5c-1.1 0-2 .9-2 2v14c0 1.1.9 2 2 2h14c1.1 0 2-.9 2-2V5c0-1.1-.9-2-2-2zM9 17H7v-7h2v7zm4 0h-2V7h2v10zm4 0h-2v-4h2v4z\"/>\n",
              "    </g>\n",
              "</svg>\n",
              "  </button>\n",
              "\n",
              "<style>\n",
              "  .colab-df-quickchart {\n",
              "      --bg-color: #E8F0FE;\n",
              "      --fill-color: #1967D2;\n",
              "      --hover-bg-color: #E2EBFA;\n",
              "      --hover-fill-color: #174EA6;\n",
              "      --disabled-fill-color: #AAA;\n",
              "      --disabled-bg-color: #DDD;\n",
              "  }\n",
              "\n",
              "  [theme=dark] .colab-df-quickchart {\n",
              "      --bg-color: #3B4455;\n",
              "      --fill-color: #D2E3FC;\n",
              "      --hover-bg-color: #434B5C;\n",
              "      --hover-fill-color: #FFFFFF;\n",
              "      --disabled-bg-color: #3B4455;\n",
              "      --disabled-fill-color: #666;\n",
              "  }\n",
              "\n",
              "  .colab-df-quickchart {\n",
              "    background-color: var(--bg-color);\n",
              "    border: none;\n",
              "    border-radius: 50%;\n",
              "    cursor: pointer;\n",
              "    display: none;\n",
              "    fill: var(--fill-color);\n",
              "    height: 32px;\n",
              "    padding: 0;\n",
              "    width: 32px;\n",
              "  }\n",
              "\n",
              "  .colab-df-quickchart:hover {\n",
              "    background-color: var(--hover-bg-color);\n",
              "    box-shadow: 0 1px 2px rgba(60, 64, 67, 0.3), 0 1px 3px 1px rgba(60, 64, 67, 0.15);\n",
              "    fill: var(--button-hover-fill-color);\n",
              "  }\n",
              "\n",
              "  .colab-df-quickchart-complete:disabled,\n",
              "  .colab-df-quickchart-complete:disabled:hover {\n",
              "    background-color: var(--disabled-bg-color);\n",
              "    fill: var(--disabled-fill-color);\n",
              "    box-shadow: none;\n",
              "  }\n",
              "\n",
              "  .colab-df-spinner {\n",
              "    border: 2px solid var(--fill-color);\n",
              "    border-color: transparent;\n",
              "    border-bottom-color: var(--fill-color);\n",
              "    animation:\n",
              "      spin 1s steps(1) infinite;\n",
              "  }\n",
              "\n",
              "  @keyframes spin {\n",
              "    0% {\n",
              "      border-color: transparent;\n",
              "      border-bottom-color: var(--fill-color);\n",
              "      border-left-color: var(--fill-color);\n",
              "    }\n",
              "    20% {\n",
              "      border-color: transparent;\n",
              "      border-left-color: var(--fill-color);\n",
              "      border-top-color: var(--fill-color);\n",
              "    }\n",
              "    30% {\n",
              "      border-color: transparent;\n",
              "      border-left-color: var(--fill-color);\n",
              "      border-top-color: var(--fill-color);\n",
              "      border-right-color: var(--fill-color);\n",
              "    }\n",
              "    40% {\n",
              "      border-color: transparent;\n",
              "      border-right-color: var(--fill-color);\n",
              "      border-top-color: var(--fill-color);\n",
              "    }\n",
              "    60% {\n",
              "      border-color: transparent;\n",
              "      border-right-color: var(--fill-color);\n",
              "    }\n",
              "    80% {\n",
              "      border-color: transparent;\n",
              "      border-right-color: var(--fill-color);\n",
              "      border-bottom-color: var(--fill-color);\n",
              "    }\n",
              "    90% {\n",
              "      border-color: transparent;\n",
              "      border-bottom-color: var(--fill-color);\n",
              "    }\n",
              "  }\n",
              "</style>\n",
              "\n",
              "  <script>\n",
              "    async function quickchart(key) {\n",
              "      const quickchartButtonEl =\n",
              "        document.querySelector('#' + key + ' button');\n",
              "      quickchartButtonEl.disabled = true;  // To prevent multiple clicks.\n",
              "      quickchartButtonEl.classList.add('colab-df-spinner');\n",
              "      try {\n",
              "        const charts = await google.colab.kernel.invokeFunction(\n",
              "            'suggestCharts', [key], {});\n",
              "      } catch (error) {\n",
              "        console.error('Error during call to suggestCharts:', error);\n",
              "      }\n",
              "      quickchartButtonEl.classList.remove('colab-df-spinner');\n",
              "      quickchartButtonEl.classList.add('colab-df-quickchart-complete');\n",
              "    }\n",
              "    (() => {\n",
              "      let quickchartButtonEl =\n",
              "        document.querySelector('#df-98401081-1641-45c9-9b78-a13f97571376 button');\n",
              "      quickchartButtonEl.style.display =\n",
              "        google.colab.kernel.accessAllowed ? 'block' : 'none';\n",
              "    })();\n",
              "  </script>\n",
              "</div>\n",
              "    </div>\n",
              "  </div>\n"
            ],
            "application/vnd.google.colaboratory.intrinsic+json": {
              "type": "dataframe",
              "variable_name": "df_echantillon",
              "summary": "{\n  \"name\": \"df_echantillon\",\n  \"rows\": 10000,\n  \"fields\": [\n    {\n      \"column\": \"label\",\n      \"properties\": {\n        \"dtype\": \"number\",\n        \"std\": 0,\n        \"min\": 0,\n        \"max\": 1,\n        \"num_unique_values\": 2,\n        \"samples\": [\n          1,\n          0\n        ],\n        \"semantic_type\": \"\",\n        \"description\": \"\"\n      }\n    },\n    {\n      \"column\": \"text\",\n      \"properties\": {\n        \"dtype\": \"string\",\n        \"num_unique_values\": 9923,\n        \"samples\": [\n          \"bha il a lu mon esprit\",\n          \"vient de decouvrir que l orchestre de manchester concetonight est epuise depuis quand le spectacle a la vente sociale sont il vendus\"\n        ],\n        \"semantic_type\": \"\",\n        \"description\": \"\"\n      }\n    }\n  ]\n}"
            }
          },
          "metadata": {},
          "execution_count": 8
        }
      ]
    },
    {
      "cell_type": "code",
      "source": [
        "tokenizer = Tokenizer()\n",
        "tokenizer.fit_on_texts(df_echantillon['text'])\n",
        "X = tokenizer.texts_to_sequences(df_echantillon['text'])\n",
        "X = pad_sequences(X)\n",
        "y = np.array(df_echantillon['label'])\n",
        "X = np.reshape(X, (X.shape[0],X.shape[1],1))\n",
        "# Train Test Split\n",
        "X_train, X_test, y_train, y_test = train_test_split(X, y, test_size=0.2, random_state=42)"
      ],
      "metadata": {
        "id": "PO9IjNTd8iW8"
      },
      "execution_count": null,
      "outputs": []
    },
    {
      "cell_type": "code",
      "source": [
        "texts = df_echantillon['text'].tolist()\n",
        "vocab_size = 1000\n",
        "embedding_dim = 100\n",
        "tokenizer = Tokenizer(num_words=vocab_size)\n",
        "tokenizer.fit_on_texts(texts)\n",
        "sequences = tokenizer.texts_to_sequences(texts)\n",
        "max_len = 100\n",
        "X = pad_sequences(sequences, maxlen=max_len)\n",
        "y = np.array(df_echantillon['label'])"
      ],
      "metadata": {
        "id": "9413P6eT8yTu"
      },
      "execution_count": null,
      "outputs": []
    },
    {
      "cell_type": "markdown",
      "source": [
        "Test de differents nombre de neurones par couche"
      ],
      "metadata": {
        "id": "qBxwD_ep84If"
      }
    },
    {
      "cell_type": "code",
      "source": [
        "# Modèle avec des couches BiLSTM\n",
        "inputs_bi = Input(shape=(max_len,))\n",
        "embedding_layer_bi = Embedding(input_dim=vocab_size, output_dim=embedding_dim, input_length=max_len)(inputs_bi)\n",
        "\n",
        "x_bi = Bidirectional(LSTM(128, return_sequences=True))(embedding_layer_bi)\n",
        "x_bi = Dropout(0.2)(x_bi)\n",
        "x_bi = Bidirectional(LSTM(64))(x_bi)\n",
        "x_bi = Dropout(0.2)(x_bi)\n",
        "\n",
        "outputs_bi = Dense(1, activation='sigmoid')(x_bi)\n",
        "\n",
        "modeleBi = Model(inputs=inputs_bi, outputs=outputs_bi)\n",
        "\n",
        "modeleBi.summary()"
      ],
      "metadata": {
        "colab": {
          "base_uri": "https://localhost:8080/"
        },
        "id": "Se5CmIN28yV1",
        "outputId": "0ba7cbef-a9dd-4f15-efd2-b409e3c4db66"
      },
      "execution_count": null,
      "outputs": [
        {
          "output_type": "stream",
          "name": "stdout",
          "text": [
            "Model: \"model\"\n",
            "_________________________________________________________________\n",
            " Layer (type)                Output Shape              Param #   \n",
            "=================================================================\n",
            " input_1 (InputLayer)        [(None, 100)]             0         \n",
            "                                                                 \n",
            " embedding (Embedding)       (None, 100, 100)          100000    \n",
            "                                                                 \n",
            " bidirectional (Bidirection  (None, 100, 256)          234496    \n",
            " al)                                                             \n",
            "                                                                 \n",
            " dropout (Dropout)           (None, 100, 256)          0         \n",
            "                                                                 \n",
            " bidirectional_1 (Bidirecti  (None, 128)               164352    \n",
            " onal)                                                           \n",
            "                                                                 \n",
            " dropout_1 (Dropout)         (None, 128)               0         \n",
            "                                                                 \n",
            " dense (Dense)               (None, 1)                 129       \n",
            "                                                                 \n",
            "=================================================================\n",
            "Total params: 498977 (1.90 MB)\n",
            "Trainable params: 498977 (1.90 MB)\n",
            "Non-trainable params: 0 (0.00 Byte)\n",
            "_________________________________________________________________\n"
          ]
        }
      ]
    },
    {
      "cell_type": "code",
      "source": [
        "learning_rate = 0.001\n",
        "\n",
        "optimizer = Adam(learning_rate=learning_rate)\n",
        "\n",
        "modeleBi.compile(loss='binary_crossentropy',\n",
        "                 optimizer=optimizer,\n",
        "                 metrics=['accuracy'])\n",
        "\n",
        "X_train, X_test, y_train, y_test = train_test_split(X, y, test_size=0.2, random_state=42)\n",
        "\n",
        "early_stopping = EarlyStopping(monitor='val_loss', patience=5, restore_best_weights=True)\n",
        "\n",
        "history_bi = modeleBi.fit(X_train, y_train, epochs=15, batch_size=64, validation_split=0.2, callbacks=[early_stopping])"
      ],
      "metadata": {
        "colab": {
          "base_uri": "https://localhost:8080/"
        },
        "id": "4bwRW3SB8yXx",
        "outputId": "795020a4-08a7-4616-ea13-87feaf4b5708"
      },
      "execution_count": null,
      "outputs": [
        {
          "output_type": "stream",
          "name": "stdout",
          "text": [
            "Epoch 1/15\n",
            "100/100 [==============================] - 104s 867ms/step - loss: 0.6250 - accuracy: 0.6378 - val_loss: 0.5877 - val_accuracy: 0.6869\n",
            "Epoch 2/15\n",
            "100/100 [==============================] - 84s 843ms/step - loss: 0.5195 - accuracy: 0.7489 - val_loss: 0.5687 - val_accuracy: 0.7088\n",
            "Epoch 3/15\n",
            "100/100 [==============================] - 79s 788ms/step - loss: 0.4909 - accuracy: 0.7592 - val_loss: 0.5839 - val_accuracy: 0.6994\n",
            "Epoch 4/15\n",
            "100/100 [==============================] - 79s 796ms/step - loss: 0.4659 - accuracy: 0.7841 - val_loss: 0.6009 - val_accuracy: 0.7038\n",
            "Epoch 5/15\n",
            "100/100 [==============================] - 86s 854ms/step - loss: 0.4452 - accuracy: 0.7920 - val_loss: 0.5958 - val_accuracy: 0.7006\n",
            "Epoch 6/15\n",
            "100/100 [==============================] - 87s 863ms/step - loss: 0.4154 - accuracy: 0.8097 - val_loss: 0.5970 - val_accuracy: 0.7044\n",
            "Epoch 7/15\n",
            "100/100 [==============================] - 83s 828ms/step - loss: 0.3817 - accuracy: 0.8289 - val_loss: 0.7010 - val_accuracy: 0.6919\n"
          ]
        }
      ]
    },
    {
      "cell_type": "code",
      "source": [
        "loss_bi, accuracy_bi = modeleBi.evaluate(X_test, y_test)\n",
        "print(\"Test Loss (BiLSTM):\", loss_bi)\n",
        "print(\"Test Accuracy (BiLSTM):\", accuracy_bi)"
      ],
      "metadata": {
        "colab": {
          "base_uri": "https://localhost:8080/"
        },
        "id": "NzUl_loADZiw",
        "outputId": "eaf76701-0a36-44b1-8822-87632c119301"
      },
      "execution_count": null,
      "outputs": [
        {
          "output_type": "stream",
          "name": "stdout",
          "text": [
            "63/63 [==============================] - 13s 184ms/step - loss: 0.5563 - accuracy: 0.7235\n",
            "Test Loss (BiLSTM): 0.5563290119171143\n",
            "Test Accuracy (BiLSTM): 0.7235000133514404\n"
          ]
        }
      ]
    },
    {
      "cell_type": "code",
      "source": [
        "y_pred = modeleBi.predict(X_test)\n",
        "y_pred_binary = (y_pred > 0.5).astype(int)\n",
        "\n",
        "conf_matrix = confusion_matrix(y_test, y_pred_binary)\n",
        "\n",
        "plt.figure(figsize=(8, 6))\n",
        "sns.heatmap(conf_matrix, annot=True, fmt=\"d\", cmap=\"Blues\")\n",
        "plt.xlabel('Prédictions')\n",
        "plt.ylabel('Vraies valeurs')\n",
        "plt.title('Matrice de Confusion')\n",
        "plt.show()"
      ],
      "metadata": {
        "colab": {
          "base_uri": "https://localhost:8080/",
          "height": 582
        },
        "id": "XkhMrA2S9H7R",
        "outputId": "eb0ff04e-3f6a-469d-90e7-7185841d5115"
      },
      "execution_count": null,
      "outputs": [
        {
          "output_type": "stream",
          "name": "stdout",
          "text": [
            "63/63 [==============================] - 11s 143ms/step\n"
          ]
        },
        {
          "output_type": "display_data",
          "data": {
            "text/plain": [
              "<Figure size 800x600 with 2 Axes>"
            ],
            "image/png": "[encoded data removed]"
          },
          "metadata": {}
        }
      ]
    },
    {
      "cell_type": "code",
      "source": [],
      "metadata": {
        "id": "u-3j26I5nnxR"
      },
      "execution_count": null,
      "outputs": []
    },
    {
      "cell_type": "code",
      "source": [],
      "metadata": {
        "id": "pQB98QOA8Dj1"
      },
      "execution_count": null,
      "outputs": []
    },
    {
      "cell_type": "code",
      "source": [],
      "metadata": {
        "id": "QFtIY8Ms8DmU"
      },
      "execution_count": null,
      "outputs": []
    },
    {
      "cell_type": "code",
      "source": [
        "inputs_bi = Input(shape=(max_len,))\n",
        "embedding_layer_bi = Embedding(input_dim=vocab_size, output_dim=embedding_dim, input_length=max_len)(inputs_bi)\n",
        "\n",
        "x_bi = Bidirectional(LSTM(128, return_sequences=True))(embedding_layer_bi)\n",
        "x_bi = Dropout(0.2)(x_bi)\n",
        "x_bi = Dense(64)(x_bi)\n",
        "x_bi = Bidirectional(LSTM(64))(x_bi)\n",
        "x_bi = Dropout(0.2)(x_bi)\n",
        "\n",
        "outputs_bi = Dense(1, activation='sigmoid')(x_bi)\n",
        "\n",
        "modeleBi = Model(inputs=inputs_bi, outputs=outputs_bi)\n",
        "\n",
        "print(modeleBi.summary())\n",
        "\n",
        "optimizer = Adam(learning_rate=learning_rate)\n",
        "\n",
        "modeleBi.compile(loss='binary_crossentropy',\n",
        "                 optimizer=optimizer,\n",
        "                 metrics=['accuracy'])\n",
        "\n",
        "X_train, X_test, y_train, y_test = train_test_split(X, y, test_size=0.2, random_state=42)\n",
        "\n",
        "early_stopping = EarlyStopping(monitor='val_loss', patience=5, restore_best_weights=True)\n",
        "\n",
        "history_bi = modeleBi.fit(X_train, y_train, epochs=15, batch_size=64, validation_split=0.2, callbacks=[early_stopping])\n",
        "\n",
        "loss_bi, accuracy_bi = modeleBi.evaluate(X_test, y_test)\n",
        "print(\"Test Loss (BiLSTM):\", loss_bi)\n",
        "print(\"Test Accuracy (BiLSTM):\", accuracy_bi)\n",
        "\n",
        "y_pred = modeleBi.predict(X_test)\n",
        "y_pred_binary = (y_pred > 0.5).astype(int)\n",
        "\n",
        "conf_matrix = confusion_matrix(y_test, y_pred_binary)\n",
        "\n",
        "plt.figure(figsize=(8, 6))\n",
        "sns.heatmap(conf_matrix, annot=True, fmt=\"d\", cmap=\"Blues\")\n",
        "plt.xlabel('Prédictions')\n",
        "plt.ylabel('Vraies valeurs')\n",
        "plt.title('Matrice de Confusion')\n",
        "plt.show()"
      ],
      "metadata": {
        "colab": {
          "base_uri": "https://localhost:8080/",
          "height": 1000
        },
        "id": "U6MB8vhx8Doc",
        "outputId": "fca1c66d-8bb6-4164-83b7-8236a853d1e3"
      },
      "execution_count": null,
      "outputs": [
        {
          "output_type": "stream",
          "name": "stdout",
          "text": [
            "Model: \"model_1\"\n",
            "_________________________________________________________________\n",
            " Layer (type)                Output Shape              Param #   \n",
            "=================================================================\n",
            " input_2 (InputLayer)        [(None, 100)]             0         \n",
            "                                                                 \n",
            " embedding_1 (Embedding)     (None, 100, 100)          100000    \n",
            "                                                                 \n",
            " bidirectional_2 (Bidirecti  (None, 100, 256)          234496    \n",
            " onal)                                                           \n",
            "                                                                 \n",
            " dropout_2 (Dropout)         (None, 100, 256)          0         \n",
            "                                                                 \n",
            " dense_1 (Dense)             (None, 100, 64)           16448     \n",
            "                                                                 \n",
            " bidirectional_3 (Bidirecti  (None, 128)               66048     \n",
            " onal)                                                           \n",
            "                                                                 \n",
            " dropout_3 (Dropout)         (None, 128)               0         \n",
            "                                                                 \n",
            " dense_2 (Dense)             (None, 1)                 129       \n",
            "                                                                 \n",
            "=================================================================\n",
            "Total params: 417121 (1.59 MB)\n",
            "Trainable params: 417121 (1.59 MB)\n",
            "Non-trainable params: 0 (0.00 Byte)\n",
            "_________________________________________________________________\n",
            "None\n",
            "Epoch 1/15\n",
            "100/100 [==============================] - 72s 651ms/step - loss: 0.6292 - accuracy: 0.6422 - val_loss: 0.5869 - val_accuracy: 0.6975\n",
            "Epoch 2/15\n",
            "100/100 [==============================] - 61s 616ms/step - loss: 0.5244 - accuracy: 0.7461 - val_loss: 0.5841 - val_accuracy: 0.6963\n",
            "Epoch 3/15\n",
            "100/100 [==============================] - 65s 653ms/step - loss: 0.4912 - accuracy: 0.7686 - val_loss: 0.5792 - val_accuracy: 0.7088\n",
            "Epoch 4/15\n",
            "100/100 [==============================] - 69s 686ms/step - loss: 0.4648 - accuracy: 0.7892 - val_loss: 0.5848 - val_accuracy: 0.7038\n",
            "Epoch 5/15\n",
            "100/100 [==============================] - 70s 697ms/step - loss: 0.4399 - accuracy: 0.8006 - val_loss: 0.6296 - val_accuracy: 0.6950\n",
            "Epoch 6/15\n",
            "100/100 [==============================] - 63s 632ms/step - loss: 0.4239 - accuracy: 0.8136 - val_loss: 0.6212 - val_accuracy: 0.7006\n",
            "Epoch 7/15\n",
            "100/100 [==============================] - 68s 677ms/step - loss: 0.4042 - accuracy: 0.8203 - val_loss: 0.6542 - val_accuracy: 0.7031\n",
            "Epoch 8/15\n",
            "100/100 [==============================] - 64s 646ms/step - loss: 0.3746 - accuracy: 0.8406 - val_loss: 0.6411 - val_accuracy: 0.7019\n",
            "63/63 [==============================] - 11s 140ms/step - loss: 0.5670 - accuracy: 0.7115\n",
            "Test Loss (BiLSTM): 0.5669828057289124\n",
            "Test Accuracy (BiLSTM): 0.7114999890327454\n",
            "63/63 [==============================] - 11s 148ms/step\n"
          ]
        },
        {
          "output_type": "display_data",
          "data": {
            "text/plain": [
              "<Figure size 800x600 with 2 Axes>"
            ],
            "image/png": "[encoded data removed]"
          },
          "metadata": {}
        }
      ]
    },
    {
      "cell_type": "code",
      "source": [
        "inputs_bi = Input(shape=(max_len,))\n",
        "embedding_layer_bi = Embedding(input_dim=vocab_size, output_dim=embedding_dim, input_length=max_len)(inputs_bi)\n",
        "\n",
        "x_bi = Bidirectional(LSTM(64, return_sequences=True))(embedding_layer_bi)\n",
        "x_bi = Dropout(0.2)(x_bi)\n",
        "x_bi = Bidirectional(LSTM(64))(x_bi)\n",
        "x_bi = Dropout(0.2)(x_bi)\n",
        "\n",
        "outputs_bi = Dense(1, activation='sigmoid')(x_bi)\n",
        "\n",
        "modeleBi = Model(inputs=inputs_bi, outputs=outputs_bi)\n",
        "\n",
        "print(modeleBi.summary())\n",
        "learning_rate = 0.001\n",
        "\n",
        "optimizer = Adam(learning_rate=learning_rate)\n",
        "\n",
        "modeleBi.compile(loss='binary_crossentropy',\n",
        "                 optimizer=optimizer,\n",
        "                 metrics=['accuracy'])\n",
        "\n",
        "X_train, X_test, y_train, y_test = train_test_split(X, y, test_size=0.2, random_state=42)\n",
        "\n",
        "early_stopping = EarlyStopping(monitor='val_loss', patience=5, restore_best_weights=True)\n",
        "\n",
        "history_bi = modeleBi.fit(X_train, y_train, epochs=15, batch_size=64, validation_split=0.2, callbacks=[early_stopping])\n",
        "\n",
        "loss_bi, accuracy_bi = modeleBi.evaluate(X_test, y_test)\n",
        "print(\"Test Loss (BiLSTM):\", loss_bi)\n",
        "print(\"Test Accuracy (BiLSTM):\", accuracy_bi)\n",
        "\n",
        "y_pred = modeleBi.predict(X_test)\n",
        "y_pred_binary = (y_pred > 0.5).astype(int)\n",
        "\n",
        "conf_matrix = confusion_matrix(y_test, y_pred_binary)\n",
        "\n",
        "plt.figure(figsize=(8, 6))\n",
        "sns.heatmap(conf_matrix, annot=True, fmt=\"d\", cmap=\"Blues\")\n",
        "plt.xlabel('Prédictions')\n",
        "plt.ylabel('Vraies valeurs')\n",
        "plt.title('Matrice de Confusion')\n",
        "plt.show()"
      ],
      "metadata": {
        "id": "5QgGp7qinnzZ",
        "colab": {
          "base_uri": "https://localhost:8080/",
          "height": 1000
        },
        "outputId": "61842e5d-88c1-4856-8e6f-ad77e26f7ddc"
      },
      "execution_count": null,
      "outputs": [
        {
          "output_type": "stream",
          "name": "stdout",
          "text": [
            "Model: \"model_2\"\n",
            "_________________________________________________________________\n",
            " Layer (type)                Output Shape              Param #   \n",
            "=================================================================\n",
            " input_3 (InputLayer)        [(None, 100)]             0         \n",
            "                                                                 \n",
            " embedding_2 (Embedding)     (None, 100, 100)          100000    \n",
            "                                                                 \n",
            " bidirectional_4 (Bidirecti  (None, 100, 128)          84480     \n",
            " onal)                                                           \n",
            "                                                                 \n",
            " dropout_4 (Dropout)         (None, 100, 128)          0         \n",
            "                                                                 \n",
            " bidirectional_5 (Bidirecti  (None, 128)               98816     \n",
            " onal)                                                           \n",
            "                                                                 \n",
            " dropout_5 (Dropout)         (None, 128)               0         \n",
            "                                                                 \n",
            " dense_3 (Dense)             (None, 1)                 129       \n",
            "                                                                 \n",
            "=================================================================\n",
            "Total params: 283425 (1.08 MB)\n",
            "Trainable params: 283425 (1.08 MB)\n",
            "Non-trainable params: 0 (0.00 Byte)\n",
            "_________________________________________________________________\n",
            "None\n",
            "Epoch 1/15\n",
            "100/100 [==============================] - 61s 531ms/step - loss: 0.6341 - accuracy: 0.6333 - val_loss: 0.5864 - val_accuracy: 0.6988\n",
            "Epoch 2/15\n",
            "100/100 [==============================] - 52s 525ms/step - loss: 0.5225 - accuracy: 0.7497 - val_loss: 0.5710 - val_accuracy: 0.6956\n",
            "Epoch 3/15\n",
            "100/100 [==============================] - 52s 525ms/step - loss: 0.4807 - accuracy: 0.7711 - val_loss: 0.5620 - val_accuracy: 0.7119\n",
            "Epoch 4/15\n",
            "100/100 [==============================] - 53s 523ms/step - loss: 0.4569 - accuracy: 0.7933 - val_loss: 0.5895 - val_accuracy: 0.7019\n",
            "Epoch 5/15\n",
            "100/100 [==============================] - 53s 532ms/step - loss: 0.4332 - accuracy: 0.8003 - val_loss: 0.6355 - val_accuracy: 0.6950\n",
            "Epoch 6/15\n",
            "100/100 [==============================] - 52s 524ms/step - loss: 0.4089 - accuracy: 0.8172 - val_loss: 0.6337 - val_accuracy: 0.7094\n",
            "Epoch 7/15\n",
            "100/100 [==============================] - 51s 507ms/step - loss: 0.3874 - accuracy: 0.8297 - val_loss: 0.6600 - val_accuracy: 0.7013\n",
            "Epoch 8/15\n",
            "100/100 [==============================] - 52s 517ms/step - loss: 0.3682 - accuracy: 0.8395 - val_loss: 0.6855 - val_accuracy: 0.6894\n",
            "63/63 [==============================] - 7s 74ms/step - loss: 0.5571 - accuracy: 0.7105\n",
            "Test Loss (BiLSTM): 0.5571035146713257\n",
            "Test Accuracy (BiLSTM): 0.7105000019073486\n",
            "63/63 [==============================] - 5s 61ms/step\n"
          ]
        },
        {
          "output_type": "display_data",
          "data": {
            "text/plain": [
              "<Figure size 800x600 with 2 Axes>"
            ],
            "image/png": "[encoded data removed]"
          },
          "metadata": {}
        }
      ]
    },
    {
      "cell_type": "code",
      "source": [
        "inputs_bi = Input(shape=(max_len,))\n",
        "embedding_layer_bi = Embedding(input_dim=vocab_size, output_dim=embedding_dim, input_length=max_len)(inputs_bi)\n",
        "\n",
        "x_bi = Bidirectional(LSTM(64, return_sequences=True))(embedding_layer_bi)\n",
        "x_bi = Dropout(0.2)(x_bi)\n",
        "x_bi = Bidirectional(LSTM(32))(x_bi)\n",
        "x_bi = Dropout(0.2)(x_bi)\n",
        "\n",
        "outputs_bi = Dense(1, activation='sigmoid')(x_bi)\n",
        "\n",
        "modeleBi = Model(inputs=inputs_bi, outputs=outputs_bi)\n",
        "\n",
        "print(modeleBi.summary())\n",
        "learning_rate = 0.001\n",
        "\n",
        "optimizer = Adam(learning_rate=learning_rate)\n",
        "\n",
        "modeleBi.compile(loss='binary_crossentropy',\n",
        "                 optimizer=optimizer,\n",
        "                 metrics=['accuracy'])\n",
        "\n",
        "X_train, X_test, y_train, y_test = train_test_split(X, y, test_size=0.2, random_state=42)\n",
        "\n",
        "early_stopping = EarlyStopping(monitor='val_loss', patience=5, restore_best_weights=True)\n",
        "\n",
        "history_bi = modeleBi.fit(X_train, y_train, epochs=15, batch_size=64, validation_split=0.2, callbacks=[early_stopping])\n",
        "\n",
        "loss_bi, accuracy_bi = modeleBi.evaluate(X_test, y_test)\n",
        "print(\"Test Loss (BiLSTM):\", loss_bi)\n",
        "print(\"Test Accuracy (BiLSTM):\", accuracy_bi)\n",
        "\n",
        "y_pred = modeleBi.predict(X_test)\n",
        "y_pred_binary = (y_pred > 0.5).astype(int)\n",
        "\n",
        "conf_matrix = confusion_matrix(y_test, y_pred_binary)\n",
        "\n",
        "plt.figure(figsize=(8, 6))\n",
        "sns.heatmap(conf_matrix, annot=True, fmt=\"d\", cmap=\"Blues\")\n",
        "plt.xlabel('Prédictions')\n",
        "plt.ylabel('Vraies valeurs')\n",
        "plt.title('Matrice de Confusion')\n",
        "plt.show()"
      ],
      "metadata": {
        "colab": {
          "base_uri": "https://localhost:8080/",
          "height": 1000
        },
        "id": "bBDhQdHQ8lZT",
        "outputId": "1d31aa2f-9d01-4faf-fed3-b74f56e9de14"
      },
      "execution_count": null,
      "outputs": [
        {
          "output_type": "stream",
          "name": "stdout",
          "text": [
            "Model: \"model_3\"\n",
            "_________________________________________________________________\n",
            " Layer (type)                Output Shape              Param #   \n",
            "=================================================================\n",
            " input_4 (InputLayer)        [(None, 100)]             0         \n",
            "                                                                 \n",
            " embedding_3 (Embedding)     (None, 100, 100)          100000    \n",
            "                                                                 \n",
            " bidirectional_6 (Bidirecti  (None, 100, 128)          84480     \n",
            " onal)                                                           \n",
            "                                                                 \n",
            " dropout_6 (Dropout)         (None, 100, 128)          0         \n",
            "                                                                 \n",
            " bidirectional_7 (Bidirecti  (None, 64)                41216     \n",
            " onal)                                                           \n",
            "                                                                 \n",
            " dropout_7 (Dropout)         (None, 64)                0         \n",
            "                                                                 \n",
            " dense_4 (Dense)             (None, 1)                 65        \n",
            "                                                                 \n",
            "=================================================================\n",
            "Total params: 225761 (881.88 KB)\n",
            "Trainable params: 225761 (881.88 KB)\n",
            "Non-trainable params: 0 (0.00 Byte)\n",
            "_________________________________________________________________\n",
            "None\n",
            "Epoch 1/15\n",
            "100/100 [==============================] - 48s 404ms/step - loss: 0.6403 - accuracy: 0.6236 - val_loss: 0.5897 - val_accuracy: 0.6850\n",
            "Epoch 2/15\n",
            "100/100 [==============================] - 36s 363ms/step - loss: 0.5268 - accuracy: 0.7430 - val_loss: 0.5653 - val_accuracy: 0.7056\n",
            "Epoch 3/15\n",
            "100/100 [==============================] - 38s 377ms/step - loss: 0.4901 - accuracy: 0.7675 - val_loss: 0.5714 - val_accuracy: 0.7119\n",
            "Epoch 4/15\n",
            "100/100 [==============================] - 35s 351ms/step - loss: 0.4613 - accuracy: 0.7880 - val_loss: 0.6005 - val_accuracy: 0.7013\n",
            "Epoch 5/15\n",
            "100/100 [==============================] - 38s 377ms/step - loss: 0.4347 - accuracy: 0.8050 - val_loss: 0.5998 - val_accuracy: 0.6956\n",
            "Epoch 6/15\n",
            "100/100 [==============================] - 35s 355ms/step - loss: 0.4102 - accuracy: 0.8172 - val_loss: 0.6283 - val_accuracy: 0.6994\n",
            "Epoch 7/15\n",
            "100/100 [==============================] - 38s 384ms/step - loss: 0.3906 - accuracy: 0.8269 - val_loss: 0.6303 - val_accuracy: 0.7063\n",
            "63/63 [==============================] - 7s 70ms/step - loss: 0.5572 - accuracy: 0.7165\n",
            "Test Loss (BiLSTM): 0.5572465062141418\n",
            "Test Accuracy (BiLSTM): 0.7164999842643738\n",
            "63/63 [==============================] - 6s 59ms/step\n"
          ]
        },
        {
          "output_type": "display_data",
          "data": {
            "text/plain": [
              "<Figure size 800x600 with 2 Axes>"
            ],
            "image/png": "[encoded data removed]"
          },
          "metadata": {}
        }
      ]
    },
    {
      "cell_type": "code",
      "source": [],
      "metadata": {
        "id": "yEzLjsBhLwIC"
      },
      "execution_count": null,
      "outputs": []
    }
  ]
}