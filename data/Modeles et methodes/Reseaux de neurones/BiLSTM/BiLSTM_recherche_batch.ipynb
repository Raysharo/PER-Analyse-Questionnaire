{
  "nbformat": 4,
  "nbformat_minor": 0,
  "metadata": {
    "colab": {
      "provenance": []
    },
    "kernelspec": {
      "name": "python3",
      "display_name": "Python 3"
    },
    "language_info": {
      "name": "python"
    }
  },
  "cells": [
    {
      "cell_type": "code",
      "execution_count": null,
      "metadata": {
        "colab": {
          "base_uri": "https://localhost:8080/"
        },
        "id": "e2GkYz638PSb",
        "outputId": "30bd7792-5552-407f-f09f-40d38b8d6760"
      },
      "outputs": [
        {
          "output_type": "stream",
          "name": "stderr",
          "text": [
            "[nltk_data] Downloading package stopwords to /root/nltk_data...\n",
            "[nltk_data]   Unzipping corpora/stopwords.zip.\n"
          ]
        },
        {
          "output_type": "execute_result",
          "data": {
            "text/plain": [
              "True"
            ]
          },
          "metadata": {},
          "execution_count": 1
        }
      ],
      "source": [
        "import nltk\n",
        "nltk.download('stopwords')\n"
      ]
    },
    {
      "cell_type": "code",
      "source": [
        "# Téléchargez les ressources nécessaires pour NLTK\n",
        "nltk.download('punkt')\n",
        "nltk.download('wordnet')"
      ],
      "metadata": {
        "colab": {
          "base_uri": "https://localhost:8080/"
        },
        "id": "FVPBEVa9oAMu",
        "outputId": "c8568be9-0d1c-42ac-a042-32592d3faf48"
      },
      "execution_count": null,
      "outputs": [
        {
          "output_type": "stream",
          "name": "stderr",
          "text": [
            "[nltk_data] Downloading package punkt to /root/nltk_data...\n",
            "[nltk_data]   Unzipping tokenizers/punkt.zip.\n",
            "[nltk_data] Downloading package wordnet to /root/nltk_data...\n"
          ]
        },
        {
          "output_type": "execute_result",
          "data": {
            "text/plain": [
              "True"
            ]
          },
          "metadata": {},
          "execution_count": 2
        }
      ]
    },
    {
      "cell_type": "code",
      "source": [
        "!pip install unidecode\n"
      ],
      "metadata": {
        "colab": {
          "base_uri": "https://localhost:8080/"
        },
        "id": "bxwmCXgGnpKI",
        "outputId": "9f63100f-d5be-4c44-8367-c09eb1f22bcb"
      },
      "execution_count": null,
      "outputs": [
        {
          "output_type": "stream",
          "name": "stdout",
          "text": [
            "Collecting unidecode\n",
            "  Downloading Unidecode-1.3.8-py3-none-any.whl (235 kB)\n",
            "\u001b[?25l     \u001b[90m━━━━━━━━━━━━━━━━━━━━━━━━━━━━━━━━━━━━━━━━\u001b[0m \u001b[32m0.0/235.5 kB\u001b[0m \u001b[31m?\u001b[0m eta \u001b[36m-:--:--\u001b[0m\r\u001b[2K     \u001b[91m━━━━━━━━━━━━━━━━━━━━━━━━━━━━━\u001b[0m\u001b[91m╸\u001b[0m\u001b[90m━━━━━━━━━━\u001b[0m \u001b[32m174.1/235.5 kB\u001b[0m \u001b[31m5.0 MB/s\u001b[0m eta \u001b[36m0:00:01\u001b[0m\r\u001b[2K     \u001b[90m━━━━━━━━━━━━━━━━━━━━━━━━━━━━━━━━━━━━━━━━\u001b[0m \u001b[32m235.5/235.5 kB\u001b[0m \u001b[31m4.7 MB/s\u001b[0m eta \u001b[36m0:00:00\u001b[0m\n",
            "\u001b[?25hInstalling collected packages: unidecode\n",
            "Successfully installed unidecode-1.3.8\n"
          ]
        }
      ]
    },
    {
      "cell_type": "code",
      "source": [
        "import pandas as pd\n",
        "import string\n",
        "from unidecode import unidecode\n",
        "import numpy as np # linear algebra\n",
        "import pandas as pd # data processing, CSV file I/O (e.g. pd.read_csv)\n",
        "import re\n",
        "from sklearn.feature_extraction.text import TfidfVectorizer\n",
        "from sklearn.model_selection import train_test_split\n",
        "from nltk.corpus import stopwords\n",
        "import nltk\n",
        "from nltk.corpus import stopwords\n",
        "stopwords_fr = stopwords.words('french')\n",
        "from nltk.stem import WordNetLemmatizer\n",
        "\n",
        "from tensorflow.keras.layers import Input, LSTM, Dropout, Dense, Embedding\n",
        "from tensorflow.keras.models import Model\n",
        "from tensorflow.keras.optimizers import Adam\n",
        "from tensorflow.keras.callbacks import EarlyStopping\n",
        "from sklearn.model_selection import train_test_split\n",
        "from tensorflow.keras.preprocessing.text import Tokenizer\n",
        "from tensorflow.keras.preprocessing.sequence import pad_sequences\n",
        "from keras.layers import Bidirectional\n",
        "\n",
        "from keras.layers import Dense\n",
        "from keras import regularizers\n",
        "\n",
        "from sklearn.metrics import confusion_matrix\n",
        "import seaborn as sns\n",
        "import matplotlib.pyplot as plt\n",
        "\n",
        "from keras.utils import pad_sequences\n",
        "from keras.preprocessing.text import Tokenizer\n",
        "\n",
        "# Créer un dictionnaire français à partir des mots français contenus dans la liste des mots français du corpus nltk\n",
        "fr_dict = set(stopwords.words('french'))\n",
        "\n",
        "from tensorflow.keras.layers import Input, Embedding, Bidirectional, LSTM, Dropout, Dense, Attention\n",
        "from tensorflow.keras.models import Model\n",
        "from tensorflow.keras.regularizers import l2"
      ],
      "metadata": {
        "id": "uUhboemH8iOK"
      },
      "execution_count": null,
      "outputs": []
    },
    {
      "cell_type": "code",
      "source": [
        "df = pd.read_csv(\"french_tweets.csv\")\n",
        "print(df.dtypes)\n",
        "print(df.head())"
      ],
      "metadata": {
        "colab": {
          "base_uri": "https://localhost:8080/"
        },
        "id": "Y-6MXgcI8iQn",
        "outputId": "4794ac8b-bce2-412d-9d44-6161df51d3e0"
      },
      "execution_count": null,
      "outputs": [
        {
          "output_type": "stream",
          "name": "stdout",
          "text": [
            "label     int64\n",
            "text     object\n",
            "dtype: object\n",
            "   label                                               text\n",
            "0      0  - Awww, c'est un bummer. Tu devrais avoir davi...\n",
            "1      0  Est contrarié qu'il ne puisse pas mettre à jou...\n",
            "2      0  J'ai plongé plusieurs fois pour la balle. A ré...\n",
            "3      0  Tout mon corps a des démangeaisons et comme si...\n",
            "4      0  Non, il ne se comporte pas du tout. je suis en...\n"
          ]
        }
      ]
    },
    {
      "cell_type": "code",
      "source": [
        "df_echantillon = df.groupby('label', group_keys=False).apply(lambda x: x.sample(min(len(x), 5000)))\n",
        "\n",
        "repartition_labels = df_echantillon['label'].value_counts()\n",
        "print(repartition_labels)"
      ],
      "metadata": {
        "colab": {
          "base_uri": "https://localhost:8080/"
        },
        "id": "ERMZ3bk_8iSs",
        "outputId": "dfec3c4d-1f2b-4f37-ea64-afd55e66ba92"
      },
      "execution_count": null,
      "outputs": [
        {
          "output_type": "stream",
          "name": "stdout",
          "text": [
            "0    5000\n",
            "1    5000\n",
            "Name: label, dtype: int64\n"
          ]
        }
      ]
    },
    {
      "cell_type": "code",
      "source": [
        "def clean_text(text):\n",
        "    text = text.lower()\n",
        "    text = re.sub(\"&lt;/?.*?&gt;\", \" &lt;&gt; \", text)\n",
        "    text = re.sub(r'[@/#]', '', text)\n",
        "    text = re.sub(\"(\\\\d|\\\\W)+\", \" \", text)\n",
        "    text = re.sub(r'_+', '', text)\n",
        "    text = unidecode(text)\n",
        "    tokens = nltk.word_tokenize(text)\n",
        "    lemmatizer = WordNetLemmatizer()\n",
        "    tokens = [lemmatizer.lemmatize(word) for word in tokens]\n",
        "    text = ' '.join(tokens)\n",
        "    text = re.sub(r'[^a-zA-Z\\s]', '', text)\n",
        "    text = re.sub(r'http\\S+', '', text)\n",
        "    text = re.sub(r'\\s+', ' ', text).strip()\n",
        "    return text\n",
        "\n",
        "\n",
        "def remove_emoji(text):\n",
        "    emoji_pattern = re.compile(\"[\"\n",
        "                           u\"\\U0001F600-\\U0001F64F\"\n",
        "                           u\"\\U0001F300-\\U0001F5FF\"\n",
        "                           u\"\\U0001F680-\\U0001F6FF\"\n",
        "                           u\"\\U0001F1E0-\\U0001F1FF\"\n",
        "                           u\"\\U00002702-\\U000027B0\"\n",
        "                           u\"\\U000024C2-\\U0001F251\"\n",
        "                           \"]+\", flags=re.UNICODE)\n",
        "    return emoji_pattern.sub(r'', text)\n",
        "\n",
        "\n",
        "df_echantillon['text']=df_echantillon['text'].apply(clean_text)\n",
        "df_echantillon['text'] = df_echantillon['text'].apply(remove_emoji)\n",
        "df_echantillon.head()"
      ],
      "metadata": {
        "colab": {
          "base_uri": "https://localhost:8080/",
          "height": 206
        },
        "id": "G-5uvaP98iUz",
        "outputId": "40020241-a9fb-42a1-a769-4c220f1be32d"
      },
      "execution_count": null,
      "outputs": [
        {
          "output_type": "execute_result",
          "data": {
            "text/plain": [
              "        label                                               text\n",
              "551282      0  j ai entendu dire que la qualite et la couvert...\n",
              "78236       0         heureuse fete de mere il me manque ma mere\n",
              "425948      0  je ne veux meme pa aller au travail aujourd hu...\n",
              "415198      0  je suis assis et je suis tres froid et bouleve...\n",
              "218157      0          je sais ce que tu ressens ca va etre bien"
            ],
            "text/html": [
              "\n",
              "  <div id=\"df-14d1ab3e-278d-4e06-9bbd-fb38a55d65fe\" class=\"colab-df-container\">\n",
              "    <div>\n",
              "<style scoped>\n",
              "    .dataframe tbody tr th:only-of-type {\n",
              "        vertical-align: middle;\n",
              "    }\n",
              "\n",
              "    .dataframe tbody tr th {\n",
              "        vertical-align: top;\n",
              "    }\n",
              "\n",
              "    .dataframe thead th {\n",
              "        text-align: right;\n",
              "    }\n",
              "</style>\n",
              "<table border=\"1\" class=\"dataframe\">\n",
              "  <thead>\n",
              "    <tr style=\"text-align: right;\">\n",
              "      <th></th>\n",
              "      <th>label</th>\n",
              "      <th>text</th>\n",
              "    </tr>\n",
              "  </thead>\n",
              "  <tbody>\n",
              "    <tr>\n",
              "      <th>551282</th>\n",
              "      <td>0</td>\n",
              "      <td>j ai entendu dire que la qualite et la couvert...</td>\n",
              "    </tr>\n",
              "    <tr>\n",
              "      <th>78236</th>\n",
              "      <td>0</td>\n",
              "      <td>heureuse fete de mere il me manque ma mere</td>\n",
              "    </tr>\n",
              "    <tr>\n",
              "      <th>425948</th>\n",
              "      <td>0</td>\n",
              "      <td>je ne veux meme pa aller au travail aujourd hu...</td>\n",
              "    </tr>\n",
              "    <tr>\n",
              "      <th>415198</th>\n",
              "      <td>0</td>\n",
              "      <td>je suis assis et je suis tres froid et bouleve...</td>\n",
              "    </tr>\n",
              "    <tr>\n",
              "      <th>218157</th>\n",
              "      <td>0</td>\n",
              "      <td>je sais ce que tu ressens ca va etre bien</td>\n",
              "    </tr>\n",
              "  </tbody>\n",
              "</table>\n",
              "</div>\n",
              "    <div class=\"colab-df-buttons\">\n",
              "\n",
              "  <div class=\"colab-df-container\">\n",
              "    <button class=\"colab-df-convert\" onclick=\"convertToInteractive('df-14d1ab3e-278d-4e06-9bbd-fb38a55d65fe')\"\n",
              "            title=\"Convert this dataframe to an interactive table.\"\n",
              "            style=\"display:none;\">\n",
              "\n",
              "  <svg xmlns=\"http://www.w3.org/2000/svg\" height=\"24px\" viewBox=\"0 -960 960 960\">\n",
              "    <path d=\"M120-120v-720h720v720H120Zm60-500h600v-160H180v160Zm220 220h160v-160H400v160Zm0 220h160v-160H400v160ZM180-400h160v-160H180v160Zm440 0h160v-160H620v160ZM180-180h160v-160H180v160Zm440 0h160v-160H620v160Z\"/>\n",
              "  </svg>\n",
              "    </button>\n",
              "\n",
              "  <style>\n",
              "    .colab-df-container {\n",
              "      display:flex;\n",
              "      gap: 12px;\n",
              "    }\n",
              "\n",
              "    .colab-df-convert {\n",
              "      background-color: #E8F0FE;\n",
              "      border: none;\n",
              "      border-radius: 50%;\n",
              "      cursor: pointer;\n",
              "      display: none;\n",
              "      fill: #1967D2;\n",
              "      height: 32px;\n",
              "      padding: 0 0 0 0;\n",
              "      width: 32px;\n",
              "    }\n",
              "\n",
              "    .colab-df-convert:hover {\n",
              "      background-color: #E2EBFA;\n",
              "      box-shadow: 0px 1px 2px rgba(60, 64, 67, 0.3), 0px 1px 3px 1px rgba(60, 64, 67, 0.15);\n",
              "      fill: #174EA6;\n",
              "    }\n",
              "\n",
              "    .colab-df-buttons div {\n",
              "      margin-bottom: 4px;\n",
              "    }\n",
              "\n",
              "    [theme=dark] .colab-df-convert {\n",
              "      background-color: #3B4455;\n",
              "      fill: #D2E3FC;\n",
              "    }\n",
              "\n",
              "    [theme=dark] .colab-df-convert:hover {\n",
              "      background-color: #434B5C;\n",
              "      box-shadow: 0px 1px 3px 1px rgba(0, 0, 0, 0.15);\n",
              "      filter: drop-shadow(0px 1px 2px rgba(0, 0, 0, 0.3));\n",
              "      fill: #FFFFFF;\n",
              "    }\n",
              "  </style>\n",
              "\n",
              "    <script>\n",
              "      const buttonEl =\n",
              "        document.querySelector('#df-14d1ab3e-278d-4e06-9bbd-fb38a55d65fe button.colab-df-convert');\n",
              "      buttonEl.style.display =\n",
              "        google.colab.kernel.accessAllowed ? 'block' : 'none';\n",
              "\n",
              "      async function convertToInteractive(key) {\n",
              "        const element = document.querySelector('#df-14d1ab3e-278d-4e06-9bbd-fb38a55d65fe');\n",
              "        const dataTable =\n",
              "          await google.colab.kernel.invokeFunction('convertToInteractive',\n",
              "                                                    [key], {});\n",
              "        if (!dataTable) return;\n",
              "\n",
              "        const docLinkHtml = 'Like what you see? Visit the ' +\n",
              "          '<a target=\"_blank\" href=https://colab.research.google.com/notebooks/data_table.ipynb>data table notebook</a>'\n",
              "          + ' to learn more about interactive tables.';\n",
              "        element.innerHTML = '';\n",
              "        dataTable['output_type'] = 'display_data';\n",
              "        await google.colab.output.renderOutput(dataTable, element);\n",
              "        const docLink = document.createElement('div');\n",
              "        docLink.innerHTML = docLinkHtml;\n",
              "        element.appendChild(docLink);\n",
              "      }\n",
              "    </script>\n",
              "  </div>\n",
              "\n",
              "\n",
              "<div id=\"df-e2b414dd-bbc0-41b3-b2de-67e1eb5000a0\">\n",
              "  <button class=\"colab-df-quickchart\" onclick=\"quickchart('df-e2b414dd-bbc0-41b3-b2de-67e1eb5000a0')\"\n",
              "            title=\"Suggest charts\"\n",
              "            style=\"display:none;\">\n",
              "\n",
              "<svg xmlns=\"http://www.w3.org/2000/svg\" height=\"24px\"viewBox=\"0 0 24 24\"\n",
              "     width=\"24px\">\n",
              "    <g>\n",
              "        <path d=\"M19 3H5c-1.1 0-2 .9-2 2v14c0 1.1.9 2 2 2h14c1.1 0 2-.9 2-2V5c0-1.1-.9-2-2-2zM9 17H7v-7h2v7zm4 0h-2V7h2v10zm4 0h-2v-4h2v4z\"/>\n",
              "    </g>\n",
              "</svg>\n",
              "  </button>\n",
              "\n",
              "<style>\n",
              "  .colab-df-quickchart {\n",
              "      --bg-color: #E8F0FE;\n",
              "      --fill-color: #1967D2;\n",
              "      --hover-bg-color: #E2EBFA;\n",
              "      --hover-fill-color: #174EA6;\n",
              "      --disabled-fill-color: #AAA;\n",
              "      --disabled-bg-color: #DDD;\n",
              "  }\n",
              "\n",
              "  [theme=dark] .colab-df-quickchart {\n",
              "      --bg-color: #3B4455;\n",
              "      --fill-color: #D2E3FC;\n",
              "      --hover-bg-color: #434B5C;\n",
              "      --hover-fill-color: #FFFFFF;\n",
              "      --disabled-bg-color: #3B4455;\n",
              "      --disabled-fill-color: #666;\n",
              "  }\n",
              "\n",
              "  .colab-df-quickchart {\n",
              "    background-color: var(--bg-color);\n",
              "    border: none;\n",
              "    border-radius: 50%;\n",
              "    cursor: pointer;\n",
              "    display: none;\n",
              "    fill: var(--fill-color);\n",
              "    height: 32px;\n",
              "    padding: 0;\n",
              "    width: 32px;\n",
              "  }\n",
              "\n",
              "  .colab-df-quickchart:hover {\n",
              "    background-color: var(--hover-bg-color);\n",
              "    box-shadow: 0 1px 2px rgba(60, 64, 67, 0.3), 0 1px 3px 1px rgba(60, 64, 67, 0.15);\n",
              "    fill: var(--button-hover-fill-color);\n",
              "  }\n",
              "\n",
              "  .colab-df-quickchart-complete:disabled,\n",
              "  .colab-df-quickchart-complete:disabled:hover {\n",
              "    background-color: var(--disabled-bg-color);\n",
              "    fill: var(--disabled-fill-color);\n",
              "    box-shadow: none;\n",
              "  }\n",
              "\n",
              "  .colab-df-spinner {\n",
              "    border: 2px solid var(--fill-color);\n",
              "    border-color: transparent;\n",
              "    border-bottom-color: var(--fill-color);\n",
              "    animation:\n",
              "      spin 1s steps(1) infinite;\n",
              "  }\n",
              "\n",
              "  @keyframes spin {\n",
              "    0% {\n",
              "      border-color: transparent;\n",
              "      border-bottom-color: var(--fill-color);\n",
              "      border-left-color: var(--fill-color);\n",
              "    }\n",
              "    20% {\n",
              "      border-color: transparent;\n",
              "      border-left-color: var(--fill-color);\n",
              "      border-top-color: var(--fill-color);\n",
              "    }\n",
              "    30% {\n",
              "      border-color: transparent;\n",
              "      border-left-color: var(--fill-color);\n",
              "      border-top-color: var(--fill-color);\n",
              "      border-right-color: var(--fill-color);\n",
              "    }\n",
              "    40% {\n",
              "      border-color: transparent;\n",
              "      border-right-color: var(--fill-color);\n",
              "      border-top-color: var(--fill-color);\n",
              "    }\n",
              "    60% {\n",
              "      border-color: transparent;\n",
              "      border-right-color: var(--fill-color);\n",
              "    }\n",
              "    80% {\n",
              "      border-color: transparent;\n",
              "      border-right-color: var(--fill-color);\n",
              "      border-bottom-color: var(--fill-color);\n",
              "    }\n",
              "    90% {\n",
              "      border-color: transparent;\n",
              "      border-bottom-color: var(--fill-color);\n",
              "    }\n",
              "  }\n",
              "</style>\n",
              "\n",
              "  <script>\n",
              "    async function quickchart(key) {\n",
              "      const quickchartButtonEl =\n",
              "        document.querySelector('#' + key + ' button');\n",
              "      quickchartButtonEl.disabled = true;  // To prevent multiple clicks.\n",
              "      quickchartButtonEl.classList.add('colab-df-spinner');\n",
              "      try {\n",
              "        const charts = await google.colab.kernel.invokeFunction(\n",
              "            'suggestCharts', [key], {});\n",
              "      } catch (error) {\n",
              "        console.error('Error during call to suggestCharts:', error);\n",
              "      }\n",
              "      quickchartButtonEl.classList.remove('colab-df-spinner');\n",
              "      quickchartButtonEl.classList.add('colab-df-quickchart-complete');\n",
              "    }\n",
              "    (() => {\n",
              "      let quickchartButtonEl =\n",
              "        document.querySelector('#df-e2b414dd-bbc0-41b3-b2de-67e1eb5000a0 button');\n",
              "      quickchartButtonEl.style.display =\n",
              "        google.colab.kernel.accessAllowed ? 'block' : 'none';\n",
              "    })();\n",
              "  </script>\n",
              "</div>\n",
              "    </div>\n",
              "  </div>\n"
            ],
            "application/vnd.google.colaboratory.intrinsic+json": {
              "type": "dataframe",
              "variable_name": "df_echantillon",
              "summary": "{\n  \"name\": \"df_echantillon\",\n  \"rows\": 10000,\n  \"fields\": [\n    {\n      \"column\": \"label\",\n      \"properties\": {\n        \"dtype\": \"number\",\n        \"std\": 0,\n        \"min\": 0,\n        \"max\": 1,\n        \"num_unique_values\": 2,\n        \"samples\": [\n          1,\n          0\n        ],\n        \"semantic_type\": \"\",\n        \"description\": \"\"\n      }\n    },\n    {\n      \"column\": \"text\",\n      \"properties\": {\n        \"dtype\": \"string\",\n        \"num_unique_values\": 9939,\n        \"samples\": [\n          \"hey je ne l ai pa quelqu un l a vole\",\n          \"alors ma mere a demande a mon frere de mettre de la musique dans la maison et il a choisi ce cd aleatoire de tambour d acier tropicaux vraiment evan mal de tete\"\n        ],\n        \"semantic_type\": \"\",\n        \"description\": \"\"\n      }\n    }\n  ]\n}"
            }
          },
          "metadata": {},
          "execution_count": 7
        }
      ]
    },
    {
      "cell_type": "code",
      "source": [
        "tokenizer = Tokenizer()\n",
        "tokenizer.fit_on_texts(df_echantillon['text'])\n",
        "X = tokenizer.texts_to_sequences(df_echantillon['text'])\n",
        "X = pad_sequences(X)\n",
        "y = np.array(df_echantillon['label'])\n",
        "X = np.reshape(X, (X.shape[0],X.shape[1],1))\n",
        "# Train Test Split\n",
        "X_train, X_test, y_train, y_test = train_test_split(X, y, test_size=0.2, random_state=42)"
      ],
      "metadata": {
        "id": "PO9IjNTd8iW8"
      },
      "execution_count": null,
      "outputs": []
    },
    {
      "cell_type": "code",
      "source": [
        "texts = df_echantillon['text'].tolist()\n",
        "vocab_size = 1000\n",
        "\n",
        "embedding_dim = 100\n",
        "\n",
        "tokenizer = Tokenizer(num_words=vocab_size)\n",
        "\n",
        "tokenizer.fit_on_texts(texts)\n",
        "\n",
        "sequences = tokenizer.texts_to_sequences(texts)\n",
        "\n",
        "max_len = 100\n",
        "\n",
        "X = pad_sequences(sequences, maxlen=max_len)\n",
        "\n",
        "y = np.array(df_echantillon['label'])"
      ],
      "metadata": {
        "id": "9413P6eT8yTu"
      },
      "execution_count": null,
      "outputs": []
    },
    {
      "cell_type": "markdown",
      "source": [
        "Test de differents nombre de neurones par couche"
      ],
      "metadata": {
        "id": "qBxwD_ep84If"
      }
    },
    {
      "cell_type": "code",
      "source": [
        "inputs_bi = Input(shape=(max_len,))\n",
        "embedding_layer_bi = Embedding(input_dim=vocab_size, output_dim=embedding_dim, input_length=max_len)(inputs_bi)\n",
        "\n",
        "x_bi = Bidirectional(LSTM(128, return_sequences=True))(embedding_layer_bi)\n",
        "x_bi = Dropout(0.2)(x_bi)\n",
        "x_bi = Bidirectional(LSTM(64))(x_bi)\n",
        "x_bi = Dropout(0.2)(x_bi)\n",
        "\n",
        "outputs_bi = Dense(1, activation='sigmoid')(x_bi)\n",
        "\n",
        "modeleBi = Model(inputs=inputs_bi, outputs=outputs_bi)\n",
        "\n",
        "modeleBi.summary()"
      ],
      "metadata": {
        "colab": {
          "base_uri": "https://localhost:8080/"
        },
        "id": "Se5CmIN28yV1",
        "outputId": "99e62bd7-7a72-43a1-e9b9-096678c4f6f0"
      },
      "execution_count": null,
      "outputs": [
        {
          "output_type": "stream",
          "name": "stdout",
          "text": [
            "Model: \"model\"\n",
            "_________________________________________________________________\n",
            " Layer (type)                Output Shape              Param #   \n",
            "=================================================================\n",
            " input_1 (InputLayer)        [(None, 100)]             0         \n",
            "                                                                 \n",
            " embedding (Embedding)       (None, 100, 100)          100000    \n",
            "                                                                 \n",
            " bidirectional (Bidirection  (None, 100, 256)          234496    \n",
            " al)                                                             \n",
            "                                                                 \n",
            " dropout (Dropout)           (None, 100, 256)          0         \n",
            "                                                                 \n",
            " bidirectional_1 (Bidirecti  (None, 128)               164352    \n",
            " onal)                                                           \n",
            "                                                                 \n",
            " dropout_1 (Dropout)         (None, 128)               0         \n",
            "                                                                 \n",
            " dense (Dense)               (None, 1)                 129       \n",
            "                                                                 \n",
            "=================================================================\n",
            "Total params: 498977 (1.90 MB)\n",
            "Trainable params: 498977 (1.90 MB)\n",
            "Non-trainable params: 0 (0.00 Byte)\n",
            "_________________________________________________________________\n"
          ]
        }
      ]
    },
    {
      "cell_type": "code",
      "source": [
        "learning_rate = 0.001\n",
        "\n",
        "optimizer = Adam(learning_rate=learning_rate)\n",
        "\n",
        "modeleBi.compile(loss='binary_crossentropy',\n",
        "                 optimizer=optimizer,\n",
        "                 metrics=['accuracy'])\n",
        "\n",
        "X_train, X_test, y_train, y_test = train_test_split(X, y, test_size=0.2, random_state=42)\n",
        "\n",
        "early_stopping = EarlyStopping(monitor='val_loss', patience=5, restore_best_weights=True)\n",
        "\n",
        "history_bi = modeleBi.fit(X_train, y_train, epochs=15, batch_size=64, validation_split=0.2, callbacks=[early_stopping])"
      ],
      "metadata": {
        "colab": {
          "base_uri": "https://localhost:8080/"
        },
        "id": "4bwRW3SB8yXx",
        "outputId": "8093b7ff-c713-4d32-83a5-18c8e4937e95"
      },
      "execution_count": null,
      "outputs": [
        {
          "output_type": "stream",
          "name": "stdout",
          "text": [
            "Epoch 1/15\n",
            "100/100 [==============================] - 98s 808ms/step - loss: 0.6384 - accuracy: 0.6322 - val_loss: 0.5764 - val_accuracy: 0.6956\n",
            "Epoch 2/15\n",
            "100/100 [==============================] - 78s 780ms/step - loss: 0.5257 - accuracy: 0.7436 - val_loss: 0.5587 - val_accuracy: 0.7200\n",
            "Epoch 3/15\n",
            "100/100 [==============================] - 82s 813ms/step - loss: 0.4897 - accuracy: 0.7691 - val_loss: 0.5687 - val_accuracy: 0.7200\n",
            "Epoch 4/15\n",
            "100/100 [==============================] - 76s 765ms/step - loss: 0.4624 - accuracy: 0.7839 - val_loss: 0.5923 - val_accuracy: 0.7000\n",
            "Epoch 5/15\n",
            "100/100 [==============================] - 81s 814ms/step - loss: 0.4391 - accuracy: 0.8006 - val_loss: 0.6034 - val_accuracy: 0.6963\n",
            "Epoch 6/15\n",
            "100/100 [==============================] - 76s 761ms/step - loss: 0.4170 - accuracy: 0.8177 - val_loss: 0.6061 - val_accuracy: 0.7025\n",
            "Epoch 7/15\n",
            "100/100 [==============================] - 77s 770ms/step - loss: 0.3973 - accuracy: 0.8220 - val_loss: 0.6591 - val_accuracy: 0.6975\n"
          ]
        }
      ]
    },
    {
      "cell_type": "code",
      "source": [
        "\n",
        "loss_bi, accuracy_bi = modeleBi.evaluate(X_test, y_test)\n",
        "print(\"Test Loss (BiLSTM):\", loss_bi)\n",
        "print(\"Test Accuracy (BiLSTM):\", accuracy_bi)"
      ],
      "metadata": {
        "colab": {
          "base_uri": "https://localhost:8080/"
        },
        "id": "NzUl_loADZiw",
        "outputId": "da4bec2d-9adb-4413-d802-52deb5f839fe"
      },
      "execution_count": null,
      "outputs": [
        {
          "output_type": "stream",
          "name": "stdout",
          "text": [
            "63/63 [==============================] - 11s 142ms/step - loss: 0.5686 - accuracy: 0.7125\n",
            "Test Loss (BiLSTM): 0.5686013698577881\n",
            "Test Accuracy (BiLSTM): 0.7124999761581421\n"
          ]
        }
      ]
    },
    {
      "cell_type": "code",
      "source": [
        "\n",
        "y_pred = modeleBi.predict(X_test)\n",
        "y_pred_binary = (y_pred > 0.5).astype(int)\n",
        "\n",
        "conf_matrix = confusion_matrix(y_test, y_pred_binary)\n",
        "\n",
        "plt.figure(figsize=(8, 6))\n",
        "sns.heatmap(conf_matrix, annot=True, fmt=\"d\", cmap=\"Blues\")\n",
        "plt.xlabel('Prédictions')\n",
        "plt.ylabel('Vraies valeurs')\n",
        "plt.title('Matrice de Confusion')\n",
        "plt.show()"
      ],
      "metadata": {
        "colab": {
          "base_uri": "https://localhost:8080/",
          "height": 582
        },
        "id": "XkhMrA2S9H7R",
        "outputId": "9ecccad9-8a5c-4e9f-9d15-610c1cc78b60"
      },
      "execution_count": null,
      "outputs": [
        {
          "output_type": "stream",
          "name": "stdout",
          "text": [
            "63/63 [==============================] - 12s 157ms/step\n"
          ]
        },
        {
          "output_type": "display_data",
          "data": {
            "text/plain": [
              "<Figure size 800x600 with 2 Axes>"
            ],
            "image/png": "[encoded data removed]"
          },
          "metadata": {}
        }
      ]
    },
    {
      "cell_type": "code",
      "source": [],
      "metadata": {
        "id": "u-3j26I5nnxR"
      },
      "execution_count": null,
      "outputs": []
    },
    {
      "cell_type": "code",
      "source": [],
      "metadata": {
        "id": "pQB98QOA8Dj1"
      },
      "execution_count": null,
      "outputs": []
    },
    {
      "cell_type": "markdown",
      "source": [
        "**Recherche taille batch**"
      ],
      "metadata": {
        "id": "hcki8RLalqXa"
      }
    },
    {
      "cell_type": "code",
      "source": [
        "\n",
        "inputs_bi = Input(shape=(max_len,))\n",
        "\n",
        "embedding_layer_bi = Embedding(input_dim=vocab_size, output_dim=embedding_dim, input_length=max_len)(inputs_bi)\n",
        "\n",
        "x_bi = Bidirectional(LSTM(128, return_sequences=True))(embedding_layer_bi)\n",
        "x_bi = Dropout(0.2)(x_bi)\n",
        "x_bi = Bidirectional(LSTM(64))(x_bi)\n",
        "x_bi = Dropout(0.2)(x_bi)\n",
        "\n",
        "outputs_bi = Dense(1, activation='sigmoid')(x_bi)\n",
        "\n",
        "modeleBi = Model(inputs=inputs_bi, outputs=outputs_bi)\n",
        "\n",
        "modeleBi.summary()\n",
        "\n",
        "learning_rate = 0.001\n",
        "\n",
        "optimizer = Adam(learning_rate=learning_rate)\n",
        "\n",
        "modeleBi.compile(loss='binary_crossentropy',\n",
        "                 optimizer=optimizer,\n",
        "                 metrics=['accuracy'])\n",
        "\n",
        "X_train, X_test, y_train, y_test = train_test_split(X, y, test_size=0.2, random_state=42)\n",
        "\n",
        "early_stopping = EarlyStopping(monitor='val_loss', patience=5, restore_best_weights=True)\n",
        "\n",
        "history_bi = modeleBi.fit(X_train, y_train, epochs=15, batch_size=32, validation_split=0.2, callbacks=[early_stopping])\n",
        "\n",
        "loss_bi, accuracy_bi = modeleBi.evaluate(X_test, y_test)\n",
        "print(\"Test Loss (BiLSTM):\", loss_bi)\n",
        "print(\"Test Accuracy (BiLSTM):\", accuracy_bi)\n",
        "\n",
        "y_pred = modeleBi.predict(X_test)\n",
        "y_pred_binary = (y_pred > 0.5).astype(int)\n",
        "\n",
        "conf_matrix = confusion_matrix(y_test, y_pred_binary)\n",
        "\n",
        "plt.figure(figsize=(8, 6))\n",
        "sns.heatmap(conf_matrix, annot=True, fmt=\"d\", cmap=\"Blues\")\n",
        "plt.xlabel('Prédictions')\n",
        "plt.ylabel('Vraies valeurs')\n",
        "plt.title('Matrice de Confusion')\n",
        "plt.show()"
      ],
      "metadata": {
        "id": "QFtIY8Ms8DmU",
        "colab": {
          "base_uri": "https://localhost:8080/",
          "height": 1000
        },
        "outputId": "a738596b-ac1a-44df-e725-a84a7010d564"
      },
      "execution_count": null,
      "outputs": [
        {
          "output_type": "stream",
          "name": "stdout",
          "text": [
            "Model: \"model_1\"\n",
            "_________________________________________________________________\n",
            " Layer (type)                Output Shape              Param #   \n",
            "=================================================================\n",
            " input_2 (InputLayer)        [(None, 100)]             0         \n",
            "                                                                 \n",
            " embedding_1 (Embedding)     (None, 100, 100)          100000    \n",
            "                                                                 \n",
            " bidirectional_2 (Bidirecti  (None, 100, 256)          234496    \n",
            " onal)                                                           \n",
            "                                                                 \n",
            " dropout_2 (Dropout)         (None, 100, 256)          0         \n",
            "                                                                 \n",
            " bidirectional_3 (Bidirecti  (None, 128)               164352    \n",
            " onal)                                                           \n",
            "                                                                 \n",
            " dropout_3 (Dropout)         (None, 128)               0         \n",
            "                                                                 \n",
            " dense_1 (Dense)             (None, 1)                 129       \n",
            "                                                                 \n",
            "=================================================================\n",
            "Total params: 498977 (1.90 MB)\n",
            "Trainable params: 498977 (1.90 MB)\n",
            "Non-trainable params: 0 (0.00 Byte)\n",
            "_________________________________________________________________\n",
            "Epoch 1/15\n",
            "200/200 [==============================] - 124s 583ms/step - loss: 0.6200 - accuracy: 0.6513 - val_loss: 0.5643 - val_accuracy: 0.7181\n",
            "Epoch 2/15\n",
            "200/200 [==============================] - 116s 582ms/step - loss: 0.5206 - accuracy: 0.7475 - val_loss: 0.5975 - val_accuracy: 0.7131\n",
            "Epoch 3/15\n",
            "200/200 [==============================] - 116s 581ms/step - loss: 0.4889 - accuracy: 0.7661 - val_loss: 0.5641 - val_accuracy: 0.7119\n",
            "Epoch 4/15\n",
            "200/200 [==============================] - 116s 579ms/step - loss: 0.4566 - accuracy: 0.7875 - val_loss: 0.6022 - val_accuracy: 0.7094\n",
            "Epoch 5/15\n",
            "200/200 [==============================] - 117s 585ms/step - loss: 0.4241 - accuracy: 0.8066 - val_loss: 0.5880 - val_accuracy: 0.7013\n",
            "Epoch 6/15\n",
            "200/200 [==============================] - 118s 589ms/step - loss: 0.3974 - accuracy: 0.8170 - val_loss: 0.6155 - val_accuracy: 0.7106\n",
            "Epoch 7/15\n",
            "200/200 [==============================] - 117s 585ms/step - loss: 0.3586 - accuracy: 0.8347 - val_loss: 0.6793 - val_accuracy: 0.6975\n",
            "Epoch 8/15\n",
            "200/200 [==============================] - 115s 577ms/step - loss: 0.3253 - accuracy: 0.8548 - val_loss: 0.8151 - val_accuracy: 0.7088\n",
            "63/63 [==============================] - 12s 170ms/step - loss: 0.5731 - accuracy: 0.7140\n",
            "Test Loss (BiLSTM): 0.5731121301651001\n",
            "Test Accuracy (BiLSTM): 0.7139999866485596\n",
            "63/63 [==============================] - 12s 160ms/step\n"
          ]
        },
        {
          "output_type": "display_data",
          "data": {
            "text/plain": [
              "<Figure size 800x600 with 2 Axes>"
            ],
            "image/png": "[encoded data removed]"
          },
          "metadata": {}
        }
      ]
    },
    {
      "cell_type": "code",
      "source": [
        "inputs_bi = Input(shape=(max_len,))\n",
        "embedding_layer_bi = Embedding(input_dim=vocab_size, output_dim=embedding_dim, input_length=max_len)(inputs_bi)\n",
        "\n",
        "x_bi = Bidirectional(LSTM(128, return_sequences=True))(embedding_layer_bi)\n",
        "x_bi = Dropout(0.2)(x_bi)\n",
        "x_bi = Bidirectional(LSTM(64))(x_bi)\n",
        "x_bi = Dropout(0.2)(x_bi)\n",
        "\n",
        "outputs_bi = Dense(1, activation='sigmoid')(x_bi)\n",
        "\n",
        "modeleBi = Model(inputs=inputs_bi, outputs=outputs_bi)\n",
        "\n",
        "modeleBi.summary()\n",
        "\n",
        "learning_rate = 0.001\n",
        "\n",
        "optimizer = Adam(learning_rate=learning_rate)\n",
        "\n",
        "modeleBi.compile(loss='binary_crossentropy',\n",
        "                 optimizer=optimizer,\n",
        "                 metrics=['accuracy'])\n",
        "\n",
        "X_train, X_test, y_train, y_test = train_test_split(X, y, test_size=0.2, random_state=42)\n",
        "\n",
        "early_stopping = EarlyStopping(monitor='val_loss', patience=5, restore_best_weights=True)\n",
        "\n",
        "history_bi = modeleBi.fit(X_train, y_train, epochs=15, batch_size=16, validation_split=0.2, callbacks=[early_stopping])\n",
        "\n",
        "loss_bi, accuracy_bi = modeleBi.evaluate(X_test, y_test)\n",
        "print(\"Test Loss (BiLSTM):\", loss_bi)\n",
        "print(\"Test Accuracy (BiLSTM):\", accuracy_bi)\n",
        "\n",
        "y_pred = modeleBi.predict(X_test)\n",
        "y_pred_binary = (y_pred > 0.5).astype(int)\n",
        "\n",
        "conf_matrix = confusion_matrix(y_test, y_pred_binary)\n",
        "\n",
        "plt.figure(figsize=(8, 6))\n",
        "sns.heatmap(conf_matrix, annot=True, fmt=\"d\", cmap=\"Blues\")\n",
        "plt.xlabel('Prédictions')\n",
        "plt.ylabel('Vraies valeurs')\n",
        "plt.title('Matrice de Confusion')\n",
        "plt.show()"
      ],
      "metadata": {
        "colab": {
          "base_uri": "https://localhost:8080/",
          "height": 1000
        },
        "id": "6YDWFB9bl3rU",
        "outputId": "9b8424ab-1213-43f8-e96b-25194759da19"
      },
      "execution_count": null,
      "outputs": [
        {
          "output_type": "stream",
          "name": "stdout",
          "text": [
            "Model: \"model_2\"\n",
            "_________________________________________________________________\n",
            " Layer (type)                Output Shape              Param #   \n",
            "=================================================================\n",
            " input_3 (InputLayer)        [(None, 100)]             0         \n",
            "                                                                 \n",
            " embedding_2 (Embedding)     (None, 100, 100)          100000    \n",
            "                                                                 \n",
            " bidirectional_4 (Bidirecti  (None, 100, 256)          234496    \n",
            " onal)                                                           \n",
            "                                                                 \n",
            " dropout_4 (Dropout)         (None, 100, 256)          0         \n",
            "                                                                 \n",
            " bidirectional_5 (Bidirecti  (None, 128)               164352    \n",
            " onal)                                                           \n",
            "                                                                 \n",
            " dropout_5 (Dropout)         (None, 128)               0         \n",
            "                                                                 \n",
            " dense_2 (Dense)             (None, 1)                 129       \n",
            "                                                                 \n",
            "=================================================================\n",
            "Total params: 498977 (1.90 MB)\n",
            "Trainable params: 498977 (1.90 MB)\n",
            "Non-trainable params: 0 (0.00 Byte)\n",
            "_________________________________________________________________\n",
            "Epoch 1/15\n",
            "400/400 [==============================] - 145s 345ms/step - loss: 0.6145 - accuracy: 0.6598 - val_loss: 0.5589 - val_accuracy: 0.7150\n",
            "Epoch 2/15\n",
            "400/400 [==============================] - 122s 306ms/step - loss: 0.5204 - accuracy: 0.7425 - val_loss: 0.5467 - val_accuracy: 0.7237\n",
            "Epoch 3/15\n",
            "400/400 [==============================] - 119s 298ms/step - loss: 0.4859 - accuracy: 0.7661 - val_loss: 0.5561 - val_accuracy: 0.7206\n",
            "Epoch 4/15\n",
            "400/400 [==============================] - 116s 290ms/step - loss: 0.4482 - accuracy: 0.7886 - val_loss: 0.5939 - val_accuracy: 0.7131\n",
            "Epoch 5/15\n",
            "400/400 [==============================] - 121s 303ms/step - loss: 0.4055 - accuracy: 0.8098 - val_loss: 0.6020 - val_accuracy: 0.7088\n",
            "Epoch 6/15\n",
            "400/400 [==============================] - 120s 300ms/step - loss: 0.3602 - accuracy: 0.8319 - val_loss: 0.6918 - val_accuracy: 0.6900\n",
            "Epoch 7/15\n",
            "400/400 [==============================] - 119s 299ms/step - loss: 0.3242 - accuracy: 0.8531 - val_loss: 0.7621 - val_accuracy: 0.6875\n",
            "63/63 [==============================] - 11s 139ms/step - loss: 0.5646 - accuracy: 0.7225\n",
            "Test Loss (BiLSTM): 0.5645919442176819\n",
            "Test Accuracy (BiLSTM): 0.7225000262260437\n",
            "63/63 [==============================] - 11s 140ms/step\n"
          ]
        },
        {
          "output_type": "display_data",
          "data": {
            "text/plain": [
              "<Figure size 800x600 with 2 Axes>"
            ],
            "image/png": "[encoded data removed]"
          },
          "metadata": {}
        }
      ]
    },
    {
      "cell_type": "code",
      "source": [
        "inputs_bi = Input(shape=(max_len,))\n",
        "embedding_layer_bi = Embedding(input_dim=vocab_size, output_dim=embedding_dim, input_length=max_len)(inputs_bi)\n",
        "\n",
        "x_bi = Bidirectional(LSTM(128, return_sequences=True))(embedding_layer_bi)\n",
        "x_bi = Dropout(0.2)(x_bi)\n",
        "x_bi = Bidirectional(LSTM(64))(x_bi)\n",
        "x_bi = Dropout(0.2)(x_bi)\n",
        "\n",
        "outputs_bi = Dense(1, activation='sigmoid')(x_bi)\n",
        "\n",
        "modeleBi = Model(inputs=inputs_bi, outputs=outputs_bi)\n",
        "\n",
        "modeleBi.summary()\n",
        "\n",
        "learning_rate = 0.001\n",
        "\n",
        "optimizer = Adam(learning_rate=learning_rate)\n",
        "\n",
        "modeleBi.compile(loss='binary_crossentropy',\n",
        "                 optimizer=optimizer,\n",
        "                 metrics=['accuracy'])\n",
        "\n",
        "X_train, X_test, y_train, y_test = train_test_split(X, y, test_size=0.2, random_state=42)\n",
        "\n",
        "early_stopping = EarlyStopping(monitor='val_loss', patience=5, restore_best_weights=True)\n",
        "\n",
        "history_bi = modeleBi.fit(X_train, y_train, epochs=15, batch_size=128, validation_split=0.2, callbacks=[early_stopping])\n",
        "\n",
        "loss_bi, accuracy_bi = modeleBi.evaluate(X_test, y_test)\n",
        "print(\"Test Loss (BiLSTM):\", loss_bi)\n",
        "print(\"Test Accuracy (BiLSTM):\", accuracy_bi)\n",
        "\n",
        "y_pred = modeleBi.predict(X_test)\n",
        "y_pred_binary = (y_pred > 0.5).astype(int)\n",
        "\n",
        "conf_matrix = confusion_matrix(y_test, y_pred_binary)\n",
        "\n",
        "plt.figure(figsize=(8, 6))\n",
        "sns.heatmap(conf_matrix, annot=True, fmt=\"d\", cmap=\"Blues\")\n",
        "plt.xlabel('Prédictions')\n",
        "plt.ylabel('Vraies valeurs')\n",
        "plt.title('Matrice de Confusion')\n",
        "plt.show()"
      ],
      "metadata": {
        "colab": {
          "base_uri": "https://localhost:8080/",
          "height": 1000
        },
        "id": "Ku2LIKJzl5bc",
        "outputId": "18db7031-6e55-40e9-afe7-7ec62cb78538"
      },
      "execution_count": null,
      "outputs": [
        {
          "output_type": "stream",
          "name": "stdout",
          "text": [
            "Model: \"model_3\"\n",
            "_________________________________________________________________\n",
            " Layer (type)                Output Shape              Param #   \n",
            "=================================================================\n",
            " input_4 (InputLayer)        [(None, 100)]             0         \n",
            "                                                                 \n",
            " embedding_3 (Embedding)     (None, 100, 100)          100000    \n",
            "                                                                 \n",
            " bidirectional_6 (Bidirecti  (None, 100, 256)          234496    \n",
            " onal)                                                           \n",
            "                                                                 \n",
            " dropout_6 (Dropout)         (None, 100, 256)          0         \n",
            "                                                                 \n",
            " bidirectional_7 (Bidirecti  (None, 128)               164352    \n",
            " onal)                                                           \n",
            "                                                                 \n",
            " dropout_7 (Dropout)         (None, 128)               0         \n",
            "                                                                 \n",
            " dense_3 (Dense)             (None, 1)                 129       \n",
            "                                                                 \n",
            "=================================================================\n",
            "Total params: 498977 (1.90 MB)\n",
            "Trainable params: 498977 (1.90 MB)\n",
            "Non-trainable params: 0 (0.00 Byte)\n",
            "_________________________________________________________________\n",
            "Epoch 1/15\n",
            "50/50 [==============================] - 76s 1s/step - loss: 0.6650 - accuracy: 0.5858 - val_loss: 0.5871 - val_accuracy: 0.6900\n",
            "Epoch 2/15\n",
            "50/50 [==============================] - 64s 1s/step - loss: 0.5403 - accuracy: 0.7364 - val_loss: 0.5524 - val_accuracy: 0.7175\n",
            "Epoch 3/15\n",
            "50/50 [==============================] - 67s 1s/step - loss: 0.4899 - accuracy: 0.7672 - val_loss: 0.5651 - val_accuracy: 0.7144\n",
            "Epoch 4/15\n",
            "50/50 [==============================] - 67s 1s/step - loss: 0.4641 - accuracy: 0.7841 - val_loss: 0.5875 - val_accuracy: 0.7050\n",
            "Epoch 5/15\n",
            "50/50 [==============================] - 62s 1s/step - loss: 0.4407 - accuracy: 0.7980 - val_loss: 0.5897 - val_accuracy: 0.7138\n",
            "Epoch 6/15\n",
            "50/50 [==============================] - 67s 1s/step - loss: 0.4188 - accuracy: 0.8098 - val_loss: 0.6258 - val_accuracy: 0.7163\n",
            "Epoch 7/15\n",
            "50/50 [==============================] - 62s 1s/step - loss: 0.3960 - accuracy: 0.8248 - val_loss: 0.6155 - val_accuracy: 0.6919\n",
            "63/63 [==============================] - 10s 158ms/step - loss: 0.5658 - accuracy: 0.7130\n",
            "Test Loss (BiLSTM): 0.5657676458358765\n",
            "Test Accuracy (BiLSTM): 0.7129999995231628\n",
            "63/63 [==============================] - 13s 162ms/step\n"
          ]
        },
        {
          "output_type": "display_data",
          "data": {
            "text/plain": [
              "<Figure size 800x600 with 2 Axes>"
            ],
            "image/png": "[encoded data removed]"
          },
          "metadata": {}
        }
      ]
    }
  ]
}