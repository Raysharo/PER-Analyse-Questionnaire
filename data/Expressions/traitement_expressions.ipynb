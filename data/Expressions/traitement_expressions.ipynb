{
  "nbformat": 4,
  "nbformat_minor": 0,
  "metadata": {
    "colab": {
      "provenance": []
    },
    "kernelspec": {
      "name": "python3",
      "display_name": "Python 3"
    },
    "language_info": {
      "name": "python"
    }
  },
  "cells": [
    {
      "cell_type": "code",
      "execution_count": 1,
      "metadata": {
        "id": "OjPzvCtjH6rh"
      },
      "outputs": [],
      "source": [
        "resultats = [\n",
        "    [\"aime toujours faire de la recherche\", 15],\n",
        "    [\"de plus en plus de contraintes\", 3],\n",
        "    [\"avait un peu moins de boulets qui ne pensent qu leur recherche dans nos universités\", 2],\n",
        "    [\"distance en temps pour transiter de votre lieu enseignement celui de la recherche\", 2],\n",
        "    [\"manque au moins post ec dans les unités\", 2],\n",
        "    [\"décidé de ne plus répondre aux appels projets\", 2],\n",
        "    ###### 7 mots\n",
        "    [\"de plus en plus de tâches administratives\", 3],\n",
        "    ####### 6 mots\n",
        "    [\"la réforme du but gravement dégradé\", 3],\n",
        "    #[\"la difficulté de trouver un poste\", 2],\n",
        "    ########### 5 mots\n",
        "    [\"de plus en plus difficiles\", 2],\n",
        "    [\"de plus en plus dur\", 2],\n",
        "    [\"de plus en plus grande\", 2],\n",
        "    [\"de plus en plus importantes\", 2],\n",
        "    [\"de plus en plus lourdes\", 2],\n",
        "    [\"difficile de conseiller ce métier\", 2],\n",
        "    [\"difficile de trouver des candidats\", 2],\n",
        "    [\"difficulté de trouver un poste\", 2],\n",
        "    [\"des avantages et des inconvénients\", 2],\n",
        "    [\"des raisons de charge enseignement\", 2],\n",
        "    [\"plus du tout le même métier\", 2],\n",
        "    [\"dégradation des condition de travail\", 2],\n",
        "    [\"dégradé les condition de travail\", 2],\n",
        "    #[\"les condition de travail dégradées\", 2],\n",
        "    [\"intéressant mais les charge administratives\", 2],\n",
        "    [\"la dégradation des condition exercice\", 2],\n",
        "    #[\"la quantité de charge administratives\", 2],\n",
        "    ######### 4 mots\n",
        "    [\"trop de tâches administratives\", 2],\n",
        "    [\"trop de charge administratives\", 2],\n",
        "    [\"le manque de personnel administratif\", 2],\n",
        "    #[\"le métier est intéressant\", 2],\n",
        "    [\"le métier est très intéressant\", 2],\n",
        "    [\"les charge enseignement et administratives\", 2],\n",
        "    [\"le manque de personnel\", 4],\n",
        "    [\"le manque de reconnaissance\", 4],\n",
        "    [\"le manque de temps\", 4],\n",
        "    [\"administration de la recherche\", 3],\n",
        "    #[\"en fin de carrière\", 3],\n",
        "    #[\"plus de tâches administratives\", 3],\n",
        "    [\"une perte de temps\", 3],\n",
        "    [\"aucune perspective de promotion\", 2],\n",
        "    [\"aucune reconnaissance de investissement\", 2],\n",
        "    [\"beaucoup aimé mon métier\", 2],\n",
        "    [\"charge administratives et enseignement\", 2],\n",
        "    [\"charge enseignement et administration\", 2],\n",
        "    [\"charge enseignement et administratives\", 2],\n",
        "    [\"charge pédagogiques et administratives\", 2],\n",
        "    [\"quantité de charge administratives\", 2],\n",
        "    [\"tâches enseignement et administration\", 2],\n",
        "    [\"responsabilités administratives et pédagogiques\", 2],\n",
        "    [\"condition de travail dégradées\", 2],\n",
        "    [\"conditions de travail dégradées\", 2],\n",
        "    [\"les condition se dégradent\", 2],\n",
        "    #[\"de nombreuses tâches administratives\", 2],\n",
        "    [\"détriment de ma recherche\", 2],\n",
        "    [\"je conseille ce métier\", 2],\n",
        "    [\"jamais demandé de prime\", 2],\n",
        "    [\"la baisse des moyens\", 2],\n",
        "    #[\"la quantité de charge\", 2],\n",
        "    [\"la quantité de travail\", 2],\n",
        "    [\"la reconnaissance de investissement\", 2],\n",
        "    [\"la surcharge de travail\", 2],\n",
        "    [\"moyens humains et financier\", 2],\n",
        "    [\"pas assez de moyens\", 2],\n",
        "    [\"pas assez de post\", 2],\n",
        "    [\"pas beaucoup de sens\", 2],\n",
        "    [\"pas du tout reconnu\", 2],\n",
        "    [\"perdre beaucoup de temps\", 2],\n",
        "    [\"un temps de recherche\",2],\n",
        "    [\"un travail de fond\", 2],\n",
        "    [\"une charge de travail\", 2],\n",
        "    [\"une prestation de service\", 2],\n",
        "    [\"équipes techniques et administratives\", 2],\n",
        "    [\"difficile obtenir un poste\", 2],\n",
        "    ############# 3 mots\n",
        "    [\"étrange et plein hypocrisie\", 2],\n",
        "    [\"activité de recherche\", 22],\n",
        "    [\"début de carrière\", 15],\n",
        "    [\"manque de moyens\", 12],\n",
        "    [\"perte de sens\", 6],\n",
        "    [\"tout années confondues\", 6],\n",
        "    [\"travaux de recherche\", 6],\n",
        "    [\"aime mon métier\", 5],\n",
        "    [\"docteur en informatique\", 5],\n",
        "    [\"enseignement recherche administration\", 5],\n",
        "    [\"fin de carrière\", 5],\n",
        "    [\"financement par projet\", 5],\n",
        "    [\"métier est intéressant\", 5],\n",
        "    #[\"recherche aime toujours\", 5],\n",
        "    [\"recherche de financement\", 5],\n",
        "    [\"trop de charge\", 5],\n",
        "    [\"adore mon métier\", 4],\n",
        "    [\"avancement de carrière\", 4],\n",
        "    #[\"distance en temps\", 4],\n",
        "    [\"manque de post\", 4],\n",
        "    [\"moins de temps\", 4],\n",
        "    [\"métier est passionnant\", 4],\n",
        "    [\"peu de recherche\", 4],\n",
        "    [\"peu de reconnaissance\", 4],\n",
        "    [\"projets de recherche\", 4],\n",
        "    [\"absurde et chaotique\",],\n",
        "    #[\"administration de enseignement\", 3],\n",
        "    #[\"administratives et enseignement\", 3],\n",
        "    #[\"administratives et pédagogiques\", 3],\n",
        "    [\"attractivité du métier\", 3],\n",
        "    [\"beaucoup de charge\", 3],\n",
        "    #[\"but gravement dégradé\", 3],\n",
        "    [\"manque de considération\", 3],\n",
        "    [\"partir dans industrie\", 3],\n",
        "    [\"pas de promotion\", 3],\n",
        "    [\"pas de sens\", 3],\n",
        "    [\"contraintes administratives croissantes\",2],\n",
        "    [\"nombreuses tâches administratives\", 2],\n",
        "    [\"parcours du combattant\", 2],\n",
        "    [\"partir en mission\", 2],\n",
        "    [\"pas assez enseignants\", 2],\n",
        "    [\"pas assez payé\", 2],\n",
        "    [\"pas de cours\", 2],\n",
        "    [\"pas de moyens\", 2],\n",
        "    [\"perdre du temps\", 2],\n",
        "    [\"perte de considération\", 2],\n",
        "    [\"peu de post\", 2],\n",
        "    [\"peu de retours\", 2],\n",
        "    [\"privé en informatique\", 2],\n",
        "    [\"progression de carrière\", 2],\n",
        "    [\"projet de recherche\", 2],\n",
        "    #[\"quantité de charge\", 2],\n",
        "    [\"recherche de crédits\", 2],\n",
        "    [\"recherche de financements\", 2],\n",
        "    [\"réduit mon activité\", 2],\n",
        "    [\"suis très content\", 2],\n",
        "    [\" sujet de recherche\", 2],\n",
        "    [\"sujet de thèse\", 2],\n",
        "    [\"système de financement\", 2],\n",
        "    [\"temps de transport\", 2],\n",
        "    [\"toujours ma passion\", 2],\n",
        "    #[\"trop de tâches\", 2],\n",
        "    [\"trop heures enseignemen\", 2],\n",
        "    [\"trop heures sup\", 2],\n",
        "    [\" très beau métier\", 2],\n",
        "    [\"vide de sens\", 2],\n",
        "    ######### 2 mots\n",
        "    [\"charge administrative\", 12],\n",
        "    [\"burn out\", 7],\n",
        "    [\"temps recherche\", 4],\n",
        "    [\"coûts cachés\", 3],\n",
        "    [\"métier étrange\", 3],\n",
        "    [\"point positifs\", 3],\n",
        "    [\"support administratif\", 3],\n",
        "    [\"trop administratif\", 3],\n",
        "    [\"pas attirant\", 2],\n",
        "    [\"pas attractif\", 2],\n",
        "    [\"pas candidater\", 2],\n",
        "    [\"peu attrayant\", 2],\n",
        "    ########## 1 mot\n",
        "    [\"carrière\", 81],\n",
        "    [\"chercheurs\", 79],\n",
        "    [\"recherche\", 520],\n",
        "    [\"métier\", 267],\n",
        "    [\"charge\", 149],\n",
        "    [\"étudiants\", 130],\n",
        "    [\"chercheur\", 71],\n",
        "    [\"activité\", 45],\n",
        "    [\"mcf\", 41],\n",
        "    [\"doctorants\", 39],\n",
        "    [\"administratif\", 38],\n",
        "    [\"administrative\", 38],\n",
        "    [\"activités\", 29],\n",
        "    [\"administratifs\", 16],\n",
        "    [\"attirant\", 16],\n",
        "    [\"doctorant\", 16],\n",
        "    [\"surcharge\", 14],\n",
        "    [\"covid\", 12]\n",
        "]"
      ]
    },
    {
      "cell_type": "code",
      "source": [
        "expressions_vues = set()\n",
        "\n",
        "for resultat in resultats:\n",
        "    expression = resultat[0]\n",
        "    if expression in expressions_vues:\n",
        "        print(f\"L'expression '{expression}' est présente plusieurs fois dans la liste.\")\n",
        "    else:\n",
        "        expressions_vues.add(expression)"
      ],
      "metadata": {
        "id": "iPzkZI5lIbN5"
      },
      "execution_count": 2,
      "outputs": []
    },
    {
      "cell_type": "code",
      "source": [
        "from difflib import SequenceMatcher"
      ],
      "metadata": {
        "id": "OW4a91DPIhev"
      },
      "execution_count": 3,
      "outputs": []
    },
    {
      "cell_type": "code",
      "source": [
        "def find_similar_expressions(resultats):\n",
        "    for i in range(len(resultats)):\n",
        "        for j in range(i + 1, len(resultats)):\n",
        "            expression1 = resultats[i][0]\n",
        "            expression2 = resultats[j][0]\n",
        "            words1 = expression1.split()\n",
        "            words2 = expression2.split()\n",
        "            if len(words1) != 1 and len(words2) != 1 and len(words1) != len(words2):\n",
        "                # Find the longer and shorter expressions\n",
        "                longer_expression = expression1 if len(words1) > len(words2) else expression2\n",
        "                shorter_expression = expression2 if len(words1) > len(words2) else expression1\n",
        "                # Check if the shorter expression is a subset of the longer one\n",
        "                if all(word in longer_expression for word in shorter_expression.split()):\n",
        "                    print(f\"Expressions similaires :\")\n",
        "                    print(f\"  - {expression1}\")\n",
        "                    print(f\"  - {expression2}\")\n",
        "                    print()\n",
        "\n",
        "find_similar_expressions(resultats)"
      ],
      "metadata": {
        "colab": {
          "base_uri": "https://localhost:8080/"
        },
        "id": "MCJPdtS9IuNn",
        "outputId": "a4a3a02c-a2e7-4476-8c50-43e2b3c60a33"
      },
      "execution_count": 4,
      "outputs": [
        {
          "output_type": "stream",
          "name": "stdout",
          "text": [
            "Expressions similaires :\n",
            "  - avait un peu moins de boulets qui ne pensent qu leur recherche dans nos universités\n",
            "  - peu de recherche\n",
            "\n",
            "Expressions similaires :\n",
            "  - distance en temps pour transiter de votre lieu enseignement celui de la recherche\n",
            "  - temps recherche\n",
            "\n",
            "Expressions similaires :\n",
            "  - intéressant mais les charge administratives\n",
            "  - charge administrative\n",
            "\n",
            "Expressions similaires :\n",
            "  - trop de charge administratives\n",
            "  - trop de charge\n",
            "\n",
            "Expressions similaires :\n",
            "  - trop de charge administratives\n",
            "  - charge administrative\n",
            "\n",
            "Expressions similaires :\n",
            "  - le manque de personnel administratif\n",
            "  - le manque de personnel\n",
            "\n",
            "Expressions similaires :\n",
            "  - le métier est très intéressant\n",
            "  - métier est intéressant\n",
            "\n",
            "Expressions similaires :\n",
            "  - les charge enseignement et administratives\n",
            "  - charge administratives et enseignement\n",
            "\n",
            "Expressions similaires :\n",
            "  - les charge enseignement et administratives\n",
            "  - charge enseignement et administratives\n",
            "\n",
            "Expressions similaires :\n",
            "  - les charge enseignement et administratives\n",
            "  - charge administrative\n",
            "\n",
            "Expressions similaires :\n",
            "  - charge administratives et enseignement\n",
            "  - charge administrative\n",
            "\n",
            "Expressions similaires :\n",
            "  - charge enseignement et administratives\n",
            "  - charge administrative\n",
            "\n",
            "Expressions similaires :\n",
            "  - charge pédagogiques et administratives\n",
            "  - charge administrative\n",
            "\n",
            "Expressions similaires :\n",
            "  - quantité de charge administratives\n",
            "  - charge administrative\n",
            "\n",
            "Expressions similaires :\n",
            "  - pas assez de moyens\n",
            "  - pas de moyens\n",
            "\n",
            "Expressions similaires :\n",
            "  - pas beaucoup de sens\n",
            "  - pas de sens\n",
            "\n",
            "Expressions similaires :\n",
            "  - un temps de recherche\n",
            "  - temps recherche\n",
            "\n"
          ]
        }
      ]
    },
    {
      "cell_type": "code",
      "source": [
        "liste1 = [\"métier est intéressant\", \"le métier est très intéressant\" ]\n",
        "\n",
        "liste2 = [\"charge administratives et enseignement\", \"charge enseignement et administratives\"]\n",
        "\n",
        "liste3 = [\"quantité de charge administratives\", \"charge administrative\"]\n",
        "\n",
        "liste4 = [\"pas beaucoup de sens\", \"pas de sens\", \"vide de sens\"]\n",
        "\n",
        "liste5 = [\"pas assez de moyens\", \"pas de moyens\", \"manque de moyens\"]\n",
        "\n",
        "liste6 = [\"administratif\", \"administratifs\", \"administrative\", \"administratives\"]"
      ],
      "metadata": {
        "id": "MUKEoHAsKpty"
      },
      "execution_count": 5,
      "outputs": []
    },
    {
      "cell_type": "code",
      "source": [
        "import pandas as pd\n",
        "import numpy as np\n",
        "from tensorflow.keras.models import load_model\n",
        "from tensorflow.keras.preprocessing.sequence import pad_sequences\n",
        "from tensorflow.keras.preprocessing.text import Tokenizer\n",
        "import re\n",
        "csv_file = \"dataQuestionnaire.csv\"\n",
        "data = pd.read_csv(csv_file)"
      ],
      "metadata": {
        "id": "SgreqzvBPNV_"
      },
      "execution_count": 13,
      "outputs": []
    },
    {
      "cell_type": "code",
      "source": [
        "# Liste des colonnes spécifiées\n",
        "texte_colonnes = [\n",
        "    \"Commentaires éventuels (sur le formulaire ou sur votre situation personnelle)\",\n",
        "    \"Commentaires éventuels (sur le formulaire ou sur votre appréciation personnelle de l'enseignement)\",\n",
        "    \"Commentaires éventuels (sur le formulaire ou sur votre appréciation personnelle de la recherche)\",\n",
        "    \"Pouvez-vous expliquer vos réponses merci ...\"\n",
        "]"
      ],
      "metadata": {
        "id": "OqvBFHCzPV2l"
      },
      "execution_count": 7,
      "outputs": []
    },
    {
      "cell_type": "code",
      "source": [
        "nouvelle_df = data[[\"SID\"]].copy()\n",
        "nouvelle_df[\"Totalite des commentaires\"] = data[texte_colonnes].apply(lambda x: ' '.join(x.dropna().astype(str)), axis=1)\n",
        "nouvelle_df = nouvelle_df.dropna(subset=[\"Totalite des commentaires\"])\n",
        "nouvelle_df = nouvelle_df[nouvelle_df[\"Totalite des commentaires\"].apply(lambda x: x.strip() != \"\")]\n",
        "\n",
        "print(nouvelle_df.head())"
      ],
      "metadata": {
        "colab": {
          "base_uri": "https://localhost:8080/"
        },
        "id": "DrujvCXDOS5s",
        "outputId": "ad4d3ce7-e165-40d4-cec5-8f4bf3443cca"
      },
      "execution_count": 8,
      "outputs": [
        {
          "output_type": "stream",
          "name": "stdout",
          "text": [
            "        SID                          Totalite des commentaires\n",
            "1  15896547  Il n'y a plus d'UFR à l'Université de Bordeaux...\n",
            "2  15896551  Les conditions de travail dépendent beaucoup d...\n",
            "4  15896653  L'enseignement est de plus en plus difficile. ...\n",
            "5  15896801  Je suis dans une équipe Inria. Cela offre des ...\n",
            "7  15897130  Aujourd’hui, l’informatique offre une multitud...\n"
          ]
        }
      ]
    },
    {
      "cell_type": "code",
      "source": [
        "expressions = [resultat[0] for resultat in resultats]\n",
        "# Fonction pour vérifier la présence des expressions dans chaque commentaire\n",
        "def trouver_expressions(commentaire):\n",
        "    present = []\n",
        "    for expression in expressions:\n",
        "        if expression in commentaire:\n",
        "            if ( expression not in liste1 and expression not in liste2 and expression not in liste3 and\n",
        "                expression not in liste4 and expression not in liste5 and expression not in liste6):\n",
        "              present.append(expression)\n",
        "            elif expression in liste1 :\n",
        "              present.append(\"métier intéressant\")\n",
        "            elif expression in liste2 :\n",
        "              present.append(liste2[0])\n",
        "            elif expression in liste3 :\n",
        "              present.append(liste3[1])\n",
        "            elif expression in liste4 :\n",
        "              present.append(liste4[2])\n",
        "            elif expression in liste5 :\n",
        "              present.append(liste5[2])\n",
        "            elif expression in liste6 :\n",
        "              present.append(liste6[0])\n",
        "    return present\n",
        "\n",
        "# Ajouter une troisième colonne avec les expressions présentes dans chaque commentaire\n",
        "nouvelle_df['Expressions présentes'] = nouvelle_df['Totalite des commentaires'].apply(trouver_expressions)\n",
        "\n",
        "print(nouvelle_df.head(25))\n",
        "nouvelle_df.shape"
      ],
      "metadata": {
        "colab": {
          "base_uri": "https://localhost:8080/"
        },
        "id": "VBBBUDk1XeTO",
        "outputId": "2a93d075-44d5-465c-cfe5-f25c648fa302"
      },
      "execution_count": 9,
      "outputs": [
        {
          "output_type": "stream",
          "name": "stdout",
          "text": [
            "         SID                          Totalite des commentaires  \\\n",
            "1   15896547  Il n'y a plus d'UFR à l'Université de Bordeaux...   \n",
            "2   15896551  Les conditions de travail dépendent beaucoup d...   \n",
            "4   15896653  L'enseignement est de plus en plus difficile. ...   \n",
            "5   15896801  Je suis dans une équipe Inria. Cela offre des ...   \n",
            "7   15897130  Aujourd’hui, l’informatique offre une multitud...   \n",
            "10  15897993  Temps moyen hors période bouchon A ma connaiss...   \n",
            "11  15898332  J'aime encore beaucoup mon métier. Néanmoins, ...   \n",
            "12  15898367  Les conditions d'exercices sont de plus en plu...   \n",
            "13  15898762  Attention, pour être reconnu, l'investissement...   \n",
            "14  15899015  Temps moyen de déplacement selon les sites, pe...   \n",
            "15  15899810  Je suis Responsable de M2, mon travail a une f...   \n",
            "17  15899927  La gestion administrative tue absolument tout....   \n",
            "18  15900109  Ce n'est pas qu'un probleme de nb d'heures mai...   \n",
            "20  15901382  Pas de distance en temps pour transiter du lie...   \n",
            "21  15902190  L'E/C est la dernière roue du carrosse des uni...   \n",
            "22  15902290  Souvent difficile d'avoir un poste compte tenu...   \n",
            "24  15902826  UFR d'informatique 'propre' composée à 100% d'...   \n",
            "25  15902841  je bénéficie d'une décharge financer sur proje...   \n",
            "26  15902882  Le décret de 1984 et le système est à bout de ...   \n",
            "28  15902955  En informatique, honnêtement il y a tellement ...   \n",
            "30  15903001  Je ne fais pratiquement plus ma recherche dans...   \n",
            "33  15903160  Enseignement sur plusieurs sites de la ville :...   \n",
            "34  15903256  Appréciation personnelle : aucune option ne me...   \n",
            "35  15903369  Une partie de l’enseignement sur le même lieu ...   \n",
            "36  15903377  salaire pas attractif\\r\\naucune perspective de...   \n",
            "\n",
            "                                Expressions présentes  \n",
            "1                                                  []  \n",
            "2                                                  []  \n",
            "4   [activité de recherche, recherche, étudiants, ...  \n",
            "5                                         [recherche]  \n",
            "7                                            [métier]  \n",
            "10  [pas de promotion, perte de considération, rec...  \n",
            "11             [métier, administratif, administratif]  \n",
            "12  [le manque de reconnaissance, la baisse des mo...  \n",
            "13                                                 []  \n",
            "14                     [recherche, charge, surcharge]  \n",
            "15         [chercheurs, recherche, métier, chercheur]  \n",
            "17  [recherche de financement, recherche de financ...  \n",
            "18  [moins de temps, recherche, métier, étudiants,...  \n",
            "20  [aime toujours faire de la recherche, recherch...  \n",
            "21                                        [recherche]  \n",
            "22                                    [pas attractif]  \n",
            "24                                        [recherche]  \n",
            "25     [charge administrative, charge, administratif]  \n",
            "26  [la surcharge de travail, carrière, recherche,...  \n",
            "28                                                 []  \n",
            "30  [un travail de fond, charge administrative, re...  \n",
            "33                                        [recherche]  \n",
            "34                             [recherche, étudiants]  \n",
            "35  [chercheurs, recherche, charge, étudiants, che...  \n",
            "36  [aucune perspective de promotion, pas attracti...  \n"
          ]
        },
        {
          "output_type": "execute_result",
          "data": {
            "text/plain": [
              "(409, 3)"
            ]
          },
          "metadata": {},
          "execution_count": 9
        }
      ]
    },
    {
      "cell_type": "code",
      "source": [
        "# Filtrer les lignes avec une liste non vide d'expressions présentes\n",
        "nouvelle_df = nouvelle_df[nouvelle_df['Expressions présentes'].apply(len) > 0]\n",
        "\n",
        "# Réinitialiser les index\n",
        "nouvelle_df.reset_index(drop=True, inplace=True)\n",
        "\n",
        "print(nouvelle_df.head())\n",
        "nouvelle_df.shape"
      ],
      "metadata": {
        "colab": {
          "base_uri": "https://localhost:8080/"
        },
        "id": "H3ecqic7Xq_e",
        "outputId": "237b98e5-74ac-4cee-c737-543d77d39f2c"
      },
      "execution_count": 10,
      "outputs": [
        {
          "output_type": "stream",
          "name": "stdout",
          "text": [
            "        SID                          Totalite des commentaires  \\\n",
            "0  15896653  L'enseignement est de plus en plus difficile. ...   \n",
            "1  15896801  Je suis dans une équipe Inria. Cela offre des ...   \n",
            "2  15897130  Aujourd’hui, l’informatique offre une multitud...   \n",
            "3  15897993  Temps moyen hors période bouchon A ma connaiss...   \n",
            "4  15898332  J'aime encore beaucoup mon métier. Néanmoins, ...   \n",
            "\n",
            "                               Expressions présentes  \n",
            "0  [activité de recherche, recherche, étudiants, ...  \n",
            "1                                        [recherche]  \n",
            "2                                           [métier]  \n",
            "3  [pas de promotion, perte de considération, rec...  \n",
            "4             [métier, administratif, administratif]  \n"
          ]
        },
        {
          "output_type": "execute_result",
          "data": {
            "text/plain": [
              "(370, 3)"
            ]
          },
          "metadata": {},
          "execution_count": 10
        }
      ]
    },
    {
      "cell_type": "code",
      "source": [
        "nouvelle_df.to_csv(\"expressions.csv\", index=False)"
      ],
      "metadata": {
        "id": "f4VZKjA7abx7"
      },
      "execution_count": 11,
      "outputs": []
    }
  ]
}