{
  "nbformat": 4,
  "nbformat_minor": 0,
  "metadata": {
    "colab": {
      "provenance": []
    },
    "kernelspec": {
      "name": "python3",
      "display_name": "Python 3"
    },
    "language_info": {
      "name": "python"
    }
  },
  "cells": [
    {
      "cell_type": "code",
      "execution_count": 17,
      "metadata": {
        "colab": {
          "base_uri": "https://localhost:8080/"
        },
        "id": "1LKSQHmbKSZ8",
        "outputId": "86eb2d63-a73f-4501-9a15-4bd7d3b9b4cc"
      },
      "outputs": [
        {
          "output_type": "stream",
          "name": "stdout",
          "text": [
            "Requirement already satisfied: unidecode in /usr/local/lib/python3.10/dist-packages (1.3.8)\n"
          ]
        }
      ],
      "source": [
        "!pip install unidecode\n"
      ]
    },
    {
      "cell_type": "code",
      "source": [
        "import pandas as pd\n",
        "from unidecode import unidecode\n",
        "import string"
      ],
      "metadata": {
        "id": "egvqJMBRKVN4"
      },
      "execution_count": 18,
      "outputs": []
    },
    {
      "cell_type": "code",
      "source": [
        "import nltk\n",
        "nltk.download('punkt')\n",
        "nltk.download('wordnet')"
      ],
      "metadata": {
        "colab": {
          "base_uri": "https://localhost:8080/"
        },
        "id": "-iMy92SBKVQK",
        "outputId": "c2cc505a-8699-4536-a072-0e30e1d2957d"
      },
      "execution_count": 19,
      "outputs": [
        {
          "output_type": "stream",
          "name": "stderr",
          "text": [
            "[nltk_data] Downloading package punkt to /root/nltk_data...\n",
            "[nltk_data]   Package punkt is already up-to-date!\n",
            "[nltk_data] Downloading package wordnet to /root/nltk_data...\n",
            "[nltk_data]   Package wordnet is already up-to-date!\n"
          ]
        },
        {
          "output_type": "execute_result",
          "data": {
            "text/plain": [
              "True"
            ]
          },
          "metadata": {},
          "execution_count": 19
        }
      ]
    },
    {
      "cell_type": "code",
      "source": [
        "nltk.download('stopwords')"
      ],
      "metadata": {
        "colab": {
          "base_uri": "https://localhost:8080/"
        },
        "id": "0PQlI5nCKVSt",
        "outputId": "97ae4727-27b9-4726-b3b7-9d975f613f1f"
      },
      "execution_count": 20,
      "outputs": [
        {
          "output_type": "stream",
          "name": "stderr",
          "text": [
            "[nltk_data] Downloading package stopwords to /root/nltk_data...\n",
            "[nltk_data]   Package stopwords is already up-to-date!\n"
          ]
        },
        {
          "output_type": "execute_result",
          "data": {
            "text/plain": [
              "True"
            ]
          },
          "metadata": {},
          "execution_count": 20
        }
      ]
    },
    {
      "cell_type": "code",
      "source": [
        "csv_file = \"dataQuestionnaire.csv\"\n",
        "data = pd.read_csv(csv_file)\n",
        "texte_colonnes = [\"Commentaires éventuels (sur le formulaire ou sur votre situation personnelle)\",\n",
        "                 \"Commentaires éventuels (sur le formulaire ou sur votre appréciation personnelle de l'enseignement)\",\n",
        "                 \"Commentaires éventuels (sur le formulaire ou sur votre appréciation personnelle de la recherche)\",\n",
        "                 \"Pouvez-vous expliquer vos réponses merci ...\"]"
      ],
      "metadata": {
        "id": "MTaq8OTlKVUV"
      },
      "execution_count": 21,
      "outputs": []
    },
    {
      "cell_type": "code",
      "source": [
        "chaines_par_colonne = []\n",
        "\n",
        "for colonne in texte_colonnes:\n",
        "    chaine = ' '.join(str(value) for value in data[colonne] if pd.notna(value))\n",
        "    chaines_par_colonne.append(chaine)\n",
        "\n",
        "def preprocess_text(text):\n",
        "    text_lower = text.lower()\n",
        "    return text_lower\n",
        "\n",
        "chaines_par_colonne_preprocessed = []\n",
        "\n",
        "for colonne in texte_colonnes:\n",
        "    chaine = ' '.join(str(value) for value in data[colonne] if pd.notna(value))\n",
        "    chaine_preprocessed = preprocess_text(chaine)\n",
        "    chaines_par_colonne_preprocessed.append(chaine_preprocessed)"
      ],
      "metadata": {
        "id": "zzBBxiDgKVWf"
      },
      "execution_count": 22,
      "outputs": []
    },
    {
      "cell_type": "code",
      "source": [
        "total_text = chaines_par_colonne[0] + chaines_par_colonne[1] + chaines_par_colonne[2] + chaines_par_colonne[3]"
      ],
      "metadata": {
        "id": "xUsV6OTwKmBO"
      },
      "execution_count": 23,
      "outputs": []
    },
    {
      "cell_type": "code",
      "source": [
        "from nltk.stem import WordNetLemmatizer\n",
        "from nltk.tokenize import word_tokenize\n",
        "from nltk.corpus import wordnet\n",
        "# Créer un Lemmatizer\n",
        "lemmatizer = WordNetLemmatizer()\n",
        "\n",
        "def lemmatizer_texte(texte):\n",
        "    mots = nltk.word_tokenize(texte, language='french')\n",
        "    lemmatizer = WordNetLemmatizer()\n",
        "    lemmes = [lemmatizer.lemmatize(mot, pos=wordnet.VERB) for mot in mots]\n",
        "    texte_lemmatise = ' '.join(lemmes)\n",
        "\n",
        "    return texte_lemmatise\n",
        "\n",
        "texte_lemmatise = lemmatizer_texte(total_text)"
      ],
      "metadata": {
        "id": "j1izeeEaKsfs"
      },
      "execution_count": 24,
      "outputs": []
    },
    {
      "cell_type": "code",
      "source": [
        "from sklearn.feature_extraction.text import CountVectorizer\n",
        "\n",
        "french_stop_words = []"
      ],
      "metadata": {
        "id": "qxe_GWjgKsiL"
      },
      "execution_count": 25,
      "outputs": []
    },
    {
      "cell_type": "code",
      "source": [
        "vectorizer = CountVectorizer(ngram_range=(1, 1), stop_words=french_stop_words)\n",
        "X = vectorizer.fit_transform([texte_lemmatise])\n",
        "\n",
        "feature_names = vectorizer.get_feature_names_out()\n",
        "\n",
        "occurrences = X.sum(axis=0)\n",
        "\n",
        "ngrams_freq = [(feature_names[col], occurrences[0, col]) for col in range(occurrences.shape[1])]\n",
        "ngrams_freq.sort(key=lambda x: x[1], reverse=True)\n",
        "\n",
        " #reponses par rapport a une question du questionnaire qui a ete mal comprise, d'ou les nombreux commentaires\n",
        "mots_a_exclure = [\"questionnaire\", \"question\", \"inscrits\",\n",
        "                  #pour les ngrams avec 3 ou moins mots\n",
        "                  \"la\", \"le\", \"l\", \"les\", \"des\", \"qui\", \"quoi\", \"des\", \"un\", \"une\"\n",
        "                   #pour les ngrams avec 2 mots ou moins\n",
        "                  , \"et\", \"dans\", \"de\", \"ce\", \"je\", \"qu\", \"suis\", \"du\", \"en\", \"par\", \"mais\", \"au\", \"mon\", \"notre\", \"se\", \"ai\", \"est\",\n",
        "                  \"nous\", \"moi\", \"on\", \"me\", \"avec\", \"soi\", \"ma\", \"mon\", \"nos\", \"eux\", \"ne\", \"es\"\n",
        "]\n",
        "for rank, (ngram, freq) in enumerate(ngrams_freq):\n",
        "  #if freq <= 4 and len(ngram) > 2 and not any(mot in ngram for mot in mots_a_exclure) :\n",
        "  #if freq > 1 and not any(mot in ngram for mot in mots_a_exclure) : # Pour les ngrams contenant plus de 4 mots\n",
        "    if freq > 10 and not any(mot in ngram for mot in mots_a_exclure) : #and \"réforme\" in ngram :\n",
        "        print(f\"{rank + 1}. {ngram} : {freq} occurrences\")\n"
      ],
      "metadata": {
        "colab": {
          "base_uri": "https://localhost:8080/"
        },
        "id": "4Fhd1B_oKska",
        "outputId": "17027004-929d-4970-808a-30a73067c90a"
      },
      "execution_count": 26,
      "outputs": [
        {
          "output_type": "stream",
          "name": "stdout",
          "text": [
            "9. pour : 643 occurrences\n",
            "10. pas : 596 occurrences\n",
            "13. recherche : 520 occurrences\n",
            "22. temps : 310 occurrences\n",
            "28. métier : 267 occurrences\n",
            "30. sur : 253 occurrences\n",
            "36. tout : 184 occurrences\n",
            "37. très : 177 occurrences\n",
            "40. ou : 156 occurrences\n",
            "41. charge : 149 occurrences\n",
            "43. trop : 136 occurrences\n",
            "46. étudiants : 130 occurrences\n",
            "50. être : 122 occurrences\n",
            "54. toujours : 109 occurrences\n",
            "56. peu : 107 occurrences\n",
            "58. sans : 103 occurrences\n",
            "59. si : 102 occurrences\n",
            "62. avoir : 98 occurrences\n",
            "67. carrière : 81 occurrences\n",
            "68. chercheurs : 79 occurrences\n",
            "70. nombre : 79 occurrences\n",
            "73. ans : 77 occurrences\n",
            "79. chercheur : 71 occurrences\n",
            "91. année : 61 occurrences\n",
            "93. ça : 61 occurrences\n",
            "96. peut : 60 occurrences\n",
            "100. où : 58 occurrences\n",
            "103. car : 55 occurrences\n",
            "105. post : 55 occurrences\n",
            "107. cours : 52 occurrences\n",
            "120. activité : 45 occurrences\n",
            "122. privé : 44 occurrences\n",
            "124. tous : 44 occurrences\n",
            "131. mcf : 41 occurrences\n",
            "132. surtout : 41 occurrences\n",
            "133. été : 41 occurrences\n",
            "134. poste : 40 occurrences\n",
            "136. doctorants : 39 occurrences\n",
            "140. administratif : 38 occurrences\n",
            "141. administrative : 38 occurrences\n",
            "143. pouvoir : 38 occurrences\n",
            "145. rapport : 37 occurrences\n",
            "146. compte : 36 occurrences\n",
            "151. vie : 35 occurrences\n",
            "154. ni : 34 occurrences\n",
            "155. passé : 34 occurrences\n",
            "162. ripec : 33 occurrences\n",
            "166. sa : 31 occurrences\n",
            "167. tant : 31 occurrences\n",
            "170. ec : 30 occurrences\n",
            "173. trouver : 30 occurrences\n",
            "176. activités : 29 occurrences\n",
            "180. eu : 29 occurrences\n",
            "188. iut : 28 occurrences\n",
            "193. trouve : 28 occurrences\n",
            "195. support : 27 occurrences\n",
            "196. vous : 27 occurrences\n",
            "197. cas : 26 occurrences\n",
            "202. avant : 25 occurrences\n",
            "209. point : 25 occurrences\n",
            "212. sous : 25 occurrences\n",
            "218. après : 23 occurrences\n",
            "219. arrive : 23 occurrences\n",
            "223. dossier : 23 occurrences\n",
            "228. 10 : 22 occurrences\n",
            "230. compris : 22 occurrences\n",
            "231. dire : 22 occurrences\n",
            "232. fois : 22 occurrences\n",
            "238. forte : 21 occurrences\n",
            "239. important : 21 occurrences\n",
            "245. choix : 20 occurrences\n",
            "247. docteur : 20 occurrences\n",
            "248. début : 20 occurrences\n",
            "249. juste : 20 occurrences\n",
            "255. prim : 20 occurrences\n",
            "257. voir : 20 occurrences\n",
            "259. étant : 20 occurrences\n",
            "265. gérer : 19 occurrences\n",
            "266. hui : 19 occurrences\n",
            "271. perte : 19 occurrences\n",
            "280. fin : 18 occurrences\n",
            "281. futur : 18 occurrences\n",
            "282. intérêt : 18 occurrences\n",
            "285. mis : 18 occurrences\n",
            "287. oui : 18 occurrences\n",
            "292. ufr : 18 occurrences\n",
            "294. 20 : 17 occurrences\n",
            "299. côté : 17 occurrences\n",
            "300. docteurs : 17 occurrences\n",
            "305. payé : 17 occurrences\n",
            "309. veut : 17 occurrences\n",
            "310. administratifs : 16 occurrences\n",
            "311. attirant : 16 occurrences\n",
            "314. doctorant : 16 occurrences\n",
            "316. dossiers : 16 occurrences\n",
            "319. gros : 16 occurrences\n",
            "324. va : 16 occurrences\n",
            "325. vu : 16 occurrences\n",
            "327. an : 15 occurrences\n",
            "328. aspects : 15 occurrences\n",
            "331. candidats : 15 occurrences\n",
            "333. doit : 15 occurrences\n",
            "334. déjà : 15 occurrences\n",
            "336. heure : 15 occurrences\n",
            "337. jour : 15 occurrences\n",
            "349. pr : 15 occurrences\n",
            "352. puis : 15 occurrences\n",
            "354. étranger : 15 occurrences\n",
            "355. anr : 14 occurrences\n",
            "357. arrêté : 14 occurrences\n",
            "359. but : 14 occurrences\n",
            "364. décharge : 14 occurrences\n",
            "369. hdr : 14 occurrences\n",
            "373. pay : 14 occurrences\n",
            "379. pu : 14 occurrences\n",
            "380. pédagogie : 14 occurrences\n",
            "386. surcharge : 14 occurrences\n",
            "387. vers : 14 occurrences\n",
            "388. vos : 14 occurrences\n",
            "391. 100 : 13 occurrences\n",
            "392. 50 : 13 occurrences\n",
            "395. chercher : 13 occurrences\n",
            "396. cnrs : 13 occurrences\n",
            "400. dit : 13 occurrences\n",
            "403. financier : 13 occurrences\n",
            "413. toute : 13 occurrences\n",
            "415. voire : 13 occurrences\n",
            "418. aspect : 12 occurrences\n",
            "420. cnu : 12 occurrences\n",
            "422. composante : 12 occurrences\n",
            "425. covid : 12 occurrences\n",
            "431. dégradé : 12 occurrences\n",
            "436. jours : 12 occurrences\n",
            "438. perdre : 12 occurrences\n",
            "440. pris : 12 occurrences\n",
            "446. suivi : 12 occurrences\n",
            "450. étudiant : 12 occurrences\n",
            "451. attractif : 11 occurrences\n",
            "452. attractivité : 11 occurrences\n",
            "454. ayant : 11 occurrences\n",
            "456. changer : 11 occurrences\n",
            "461. doute : 11 occurrences\n",
            "468. hors : 11 occurrences\n",
            "469. ingénieur : 11 occurrences\n",
            "472. métiers : 11 occurrences\n",
            "473. offre : 11 occurrences\n",
            "478. ripec3 : 11 occurrences\n",
            "480. sit : 11 occurrences\n",
            "481. td : 11 occurrences\n"
          ]
        }
      ]
    },
    {
      "cell_type": "code",
      "source": [
        "resultats = [\n",
        "    [\"aime toujours faire de la recherche\", 15],\n",
        "    [\"de plus en plus de contraintes\", 3],\n",
        "    [\"avait un peu moins de boulets qui ne pensent qu leur recherche dans nos universités\", 2],\n",
        "    [\"distance en temps pour transiter de votre lieu enseignement celui de la recherche\", 2],\n",
        "    [\"il manque au moins post ec dans les unités où interviens\", 2],\n",
        "    [\"manque au moins post ec dans les unités\", 2],\n",
        "    [\"décidé de ne plus répondre aux appels projets\", 2],\n",
        "    ###### 7 mots\n",
        "    [\"de plus en plus de tâches administratives\", 3],\n",
        "    ####### 6 mots\n",
        "    [\" de plus en plus de contraintes\", 3],\n",
        "    [\"la réforme du but gravement dégradé\", 3],\n",
        "    [\"la difficulté de trouver un poste\", 2],\n",
        "    ########### 5 mots\n",
        "    [\"de plus en plus difficiles\", 2],\n",
        "    [\"de plus en plus dur\", 2],\n",
        "    [\"de plus en plus grande\", 2],\n",
        "    [\"de plus en plus importantes\", 2],\n",
        "    [\"de plus en plus lourdes\", 2],\n",
        "    [\"difficile de conseiller ce métier\", 2],\n",
        "    [\"difficile de trouver des candidats\", 2],\n",
        "    [\"difficulté de trouver un poste\", 2],\n",
        "    [\"des avantages et des inconvénients\", 2],\n",
        "    [\"des raisons de charge enseignement\", 2],\n",
        "    [\"plus du tout le même métier\", 2],\n",
        "    [\"dégradation des condition de travail\", 2],\n",
        "    [\"dégradé les condition de travail\", 2],\n",
        "    [\"les condition de travail dégradées\", 2],\n",
        "    [\"intéressant mais les charge administratives\", 2],\n",
        "    [\"la dégradation des condition exercice\", 2],\n",
        "    [\"la quantité de charge administratives\", 2],\n",
        "    ######### 4 mots\n",
        "    [\"trop de tâches administratives\", 2],\n",
        "    [\"trop de charge administratives\", 2],\n",
        "    [\"le manque de personnel administratif\", 2],\n",
        "    [\"le métier est intéressant\", 2],\n",
        "    [\"le métier est très intéressant\", 2],\n",
        "    [\"les charge enseignement et administratives\", 2],\n",
        "    [\"la réforme du but\", 4],\n",
        "    [\"le manque de personnel\", 4],\n",
        "    [\"le manque de reconnaissance\", 4],\n",
        "    [\"le manque de temps\", 4],\n",
        "    [\"administration de la recherche\", 3],\n",
        "    [\"en fin de carrière\", 3],\n",
        "    [\"plus de tâches administratives\", 3],\n",
        "    [\"une perte de sens\", 3],\n",
        "    [\"une perte de temps\", 3],\n",
        "    [\"aucune perspective de promotion\", 2],\n",
        "    [\"aucune reconnaissance de investissement\", 2],\n",
        "    [\"beaucoup aimé mon métier\", 2],\n",
        "    [\"charge administratives et enseignement\", 2],\n",
        "    [\"charge enseignement et administration\", 2],\n",
        "    [\"charge enseignement et administratives\", 2],\n",
        "    [\"charge pédagogiques et administratives\", 2],\n",
        "    [\"quantité de charge administratives\", 2],\n",
        "    [\"tâches enseignement et administration\", 2],\n",
        "    [\"responsabilités administratives et pédagogiques\", 2],\n",
        "    [\"condition de travail dégradées\", 2],\n",
        "    [\"conditions de travail dégradées\", 2],\n",
        "    [\"les condition se dégradent\", 2],\n",
        "    [\"de nombreuses tâches administratives\", 2],\n",
        "    [\"détriment de ma recherche\", 2],\n",
        "    [\"je conseille ce métier\", 2],\n",
        "    [\"jamais demandé de prime\", 2],\n",
        "    [\"la baisse des moyens\", 2],\n",
        "    [\"la quantité de charge\", 2],\n",
        "    [\"la quantité de travail\", 2],\n",
        "    [\"la reconnaissance de investissement\", 2],\n",
        "    [\"la surcharge de travail\", 2],\n",
        "    [\"moyens humains et financier\", 2],\n",
        "    [\"pas assez de moyens\", 2],\n",
        "    [\"pas assez de post\", 2],\n",
        "    [\"pas beaucoup de sens\", 2],\n",
        "    [\"pas du tout reconnu\", 2],\n",
        "    [\"perdre beaucoup de temps\", 2],\n",
        "    [\"un temps de recherche\",2],\n",
        "    [\"un travail de fond\", 2],\n",
        "    [\"une charge de travail\", 2],\n",
        "    [\"une prestation de service\", 2],\n",
        "    [\"une prestation de service\", 2],\n",
        "    [\"équipes techniques et administratives\", 2],\n",
        "    [\"difficile obtenir un poste\", 2],\n",
        "    ############# 3 mots\n",
        "    [\"étrange et plein hypocrisie\", 2],\n",
        "    [\"activité de recherche\", 22],\n",
        "    [\"début de carrière\", 15],\n",
        "    [\"manque de moyens\", 12],\n",
        "    [\"perte de sens\", 6],\n",
        "    [\"tout années confondues\", 6],\n",
        "    [\"travaux de recherche\", 6],\n",
        "    [\"aime mon métier\", 5],\n",
        "    [\"docteur en informatique\", 5],\n",
        "    [\"enseignement recherche administration\", 5],\n",
        "    [\"fin de carrière\", 5],\n",
        "    [\"financement par projet\", 5],\n",
        "    [\"métier est intéressant\", 5],\n",
        "    [\"recherche aime toujours\", 5],\n",
        "    [\"recherche de financement\", 5],\n",
        "    [\"trop de charge\", 5],\n",
        "    [\"adore mon métier\", 4],\n",
        "    [\"avancement de carrière\", 4],\n",
        "    [\"distance en temps\", 4],\n",
        "    [\"manque de post\", 4],\n",
        "    [\"manque de reconnaissance\", 4],\n",
        "    [\"moins de temps\", 4],\n",
        "    [\"métier est passionnant\", 4],\n",
        "    [\"peu de recherche\", 4],\n",
        "    [\"peu de reconnaissance\", 4],\n",
        "    [\"projets de recherche\", 4],\n",
        "    [\"reconnaissance de investissement\",4],\n",
        "    [\"réforme du but\", 4],\n",
        "    [\"absurde et chaotique\",],\n",
        "    [\"administration de enseignement\", 3],\n",
        "    [\"administratives et enseignement\", 3],\n",
        "    [\"administratives et pédagogiques\", 3],\n",
        "    [\"attractivité du métier\", 3],\n",
        "    [\"beaucoup de charge\", 3],\n",
        "    [\"but gravement dégradé\", 3],\n",
        "    [\"manque de considération\", 3],\n",
        "    [\"partir dans industrie\", 3],\n",
        "    [\"pas de promotion\", 3],\n",
        "    [\"pas de sens\", 3],\n",
        "    [\"perspective de promotion\", 3],\n",
        "    [\"contraintes administratives croissantes\",2],\n",
        "    [\"nombreuses tâches administratives\", 2],\n",
        "    [\"parcours du combattant\", 2],\n",
        "    [\"partir en mission\", 2],\n",
        "    [\"pas assez enseignants\", 2],\n",
        "    [\"pas assez payé\", 2],\n",
        "    [\"pas de cours\", 2],\n",
        "    [\"pas de moyens\", 2],\n",
        "    [\"perdre du temps\", 2],\n",
        "    [\"perte de considération\", 2],\n",
        "    [\"peu de post\", 2],\n",
        "    [\"peu de retours\", 2],\n",
        "    [\"privé en informatique\", 2],\n",
        "    [\"progression de carrière\", 2],\n",
        "    [\"projet de recherche\", 2],\n",
        "    [\"quantité de charge\", 2],\n",
        "    [\"recherche de crédits\", 2],\n",
        "    [\"recherche de financements\", 2],\n",
        "    [\"réduit mon activité\", 2],\n",
        "    [\"suis très content\", 2],\n",
        "    [\" sujet de recherche\", 2],\n",
        "    [\"sujet de thèse\", 2],\n",
        "    [\"système de financement\", 2],\n",
        "    [\"temps de transport\", 2],\n",
        "    [\"toujours ma passion\", 2],\n",
        "    [\"trop de tâches\", 2],\n",
        "    [\"trop heures enseignemen\", 2],\n",
        "    [\"trop heures sup\", 2],\n",
        "    [\" très beau métier\", 2],\n",
        "    [\"vide de sens\", 2],\n",
        "    ######### 2 mots\n",
        "    [\"charge administrative\", 12],\n",
        "    [\"burn out\", 7],\n",
        "    [\"temps recherche\", 4],\n",
        "    [\"coûts cachés\", 3],\n",
        "    [\"métier étrange\", 3],\n",
        "    [\"point positifs\", 3],\n",
        "    [\"support administratif\", 3],\n",
        "    [\"trop administratif\", 3],\n",
        "    [\"pas attirant\", 2],\n",
        "    [\"pas attractif\", 2],\n",
        "    [\"pas candidater\", 2],\n",
        "    [\"peu attrayant\", 2],\n",
        "    ########## 1 mot\n",
        "    [\"carrière\", 81],\n",
        "    [\"chercheurs\", 79],\n",
        "    [\"recherche\", 520],\n",
        "    [\"métier\", 267],\n",
        "    [\"charge\", 149],\n",
        "    [\"étudiants\", 130],\n",
        "    [\"chercheur\", 71],\n",
        "    [\"activité\", 45],\n",
        "    [\"mcf\", 41],\n",
        "    [\"doctorants\", 39],\n",
        "    [\"administratif\", 38],\n",
        "    [\"administrative\", 38],\n",
        "    [\"activités\", 29],\n",
        "    [\"administratifs\", 16],\n",
        "    [\"attirant\", 16],\n",
        "    [\"doctorant\", 16],\n",
        "    [\"surcharge\", 14],\n",
        "    [\"covid\", 12]\n",
        "]"
      ],
      "metadata": {
        "id": "SjkYBeVDLieR"
      },
      "execution_count": 27,
      "outputs": []
    },
    {
      "cell_type": "code",
      "source": [
        "negatif = ['pas', 'charge', 'trop', 'peu', 'privé', 'administratif', 'administrative', 'perte', 'administratifs', 'but',\n",
        "           'décharge', 'surcharge', 'covid', 'dégradé', 'perdre', 'doute', 'arrêter', 'admin', 'burn', 'cdd', 'out', 'refus',\n",
        "           'empiète', 'fatigue', 'fou', 'cher', 'démotive', 'empêche', 'négatif', 'épuisant', 'adm', 'burnout', 'copinage',\n",
        "           'décourageant', 'décrocher', 'frein', 'frustrant', 'handicap', 'misère', 'aucune', 'aucun', 'poids', 'sacrifier',\n",
        "           'smic', 'soucis', 'souffre', 'transport', 'décourage', 'dégradée', 'forcé', 'fuite', 'guerre', 'hypocrisie',\n",
        "           'insuffisant', 'négatifs', 'souci', 'tue', 'catastrophe', 'décourager', 'déplacement', 'déplacer', 'réforme', 'ni']\n",
        "\n",
        "neutre = ['temps', 'métier', 'étudiants', 'si', 'carrière', 'chercheurs', 'nombre', 'ans', 'chercheur', 'année', 'post', 'cours',\n",
        "          'activité', 'mcf', 'poste', 'doctorants', 'pouvoir', 'rapport', 'compte', 'vie', 'passé', 'trouver', 'activités', 'iut',\n",
        "         'support', 'avant', 'après', 'dossier', 'compris', 'dire', 'fois', 'forte', 'important', 'choix', 'docteur', 'début', 'juste',\n",
        "         'voir', 'étant', 'gérer', 'fin', 'futur', 'intérêt', 'ufr', 'doctorant', 'dossiers', 'candidats', 'arrêté', 'pédagogie', 'cnrs',\n",
        "          'financier', 'aspect', 'cnu', 'suivi', 'étudiant', 'ingénieur', 'métiers', 'offre', 'ingénieurs', 'sup', 'état', 'assurer',\n",
        "          'directeur', 'doctorat', 'recruter', 'supérieur', 'société', 'prof', 'avis', 'effectif', 'effectifs', 'statut', 'candidat',\n",
        "          'chef', 'santé', 'structure', 'thésards', 'tâche', 'impact', 'iuf', 'ministère', 'perspective', 'stage', 'stratégie']\n",
        "\n",
        "positif = ['recherche', 'sur', 'sans', 'ripec', 'docteurs', 'attirant', 'étranger', 'anr', 'hdr', 'attractif', 'attractivité',\n",
        "           'ripec3', 'inria', 'cadre', 'ins2i', 'motivés', 'avantage', ' apprécie', 'attirer', 'attractifs', 'gratifiant', 'motivant',\n",
        "           'réussi', 'succès', 'suffisant', 'bénéficier', 'cdi', 'positifs', 'ras', 'réussir', 'réussite', 'rêve', 'bénéficie',\n",
        "           'motivé', 'mérite', 'positif', 'rechercher']\n",
        "\n",
        "mots_pas_sur = ['ripec', 'anr', 'hdr', 'cnrs', 'cnu', 'ripec3', 'sit', 'inria', 'starynkevitch', 'ins2i', 'refpersys']\n"
      ],
      "metadata": {
        "id": "82-6UPrprcE9"
      },
      "execution_count": 28,
      "outputs": []
    }
  ]
}